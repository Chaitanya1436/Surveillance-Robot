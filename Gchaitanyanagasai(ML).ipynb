{
  "nbformat": 4,
  "nbformat_minor": 0,
  "metadata": {
    "colab": {
      "provenance": [],
      "authorship_tag": "ABX9TyNicdIT2A2uZn+wYePpdFV4",
      "include_colab_link": true
    },
    "kernelspec": {
      "name": "python3",
      "display_name": "Python 3"
    },
    "language_info": {
      "name": "python"
    }
  },
  "cells": [
    {
      "cell_type": "markdown",
      "metadata": {
        "id": "view-in-github",
        "colab_type": "text"
      },
      "source": [
        "<a href=\"https://colab.research.google.com/github/Chaitanya1436/Surveillance-Robot/blob/main/Gchaitanyanagasai(ML).ipynb\" target=\"_parent\"><img src=\"https://colab.research.google.com/assets/colab-badge.svg\" alt=\"Open In Colab\"/></a>"
      ]
    },
    {
      "cell_type": "code",
      "execution_count": 4,
      "metadata": {
        "colab": {
          "base_uri": "https://localhost:8080/",
          "height": 38
        },
        "id": "uvmx1ojIGyHW",
        "outputId": "17b0741f-b72d-41a9-c284-765e64e2c7cf"
      },
      "outputs": [
        {
          "output_type": "display_data",
          "data": {
            "text/plain": [
              "<IPython.core.display.HTML object>"
            ],
            "text/html": [
              "\n",
              "     <input type=\"file\" id=\"files-5174d742-fc5c-4fb8-902b-ac7560e0da7c\" name=\"files[]\" multiple disabled\n",
              "        style=\"border:none\" />\n",
              "     <output id=\"result-5174d742-fc5c-4fb8-902b-ac7560e0da7c\">\n",
              "      Upload widget is only available when the cell has been executed in the\n",
              "      current browser session. Please rerun this cell to enable.\n",
              "      </output>\n",
              "      <script>// Copyright 2017 Google LLC\n",
              "//\n",
              "// Licensed under the Apache License, Version 2.0 (the \"License\");\n",
              "// you may not use this file except in compliance with the License.\n",
              "// You may obtain a copy of the License at\n",
              "//\n",
              "//      http://www.apache.org/licenses/LICENSE-2.0\n",
              "//\n",
              "// Unless required by applicable law or agreed to in writing, software\n",
              "// distributed under the License is distributed on an \"AS IS\" BASIS,\n",
              "// WITHOUT WARRANTIES OR CONDITIONS OF ANY KIND, either express or implied.\n",
              "// See the License for the specific language governing permissions and\n",
              "// limitations under the License.\n",
              "\n",
              "/**\n",
              " * @fileoverview Helpers for google.colab Python module.\n",
              " */\n",
              "(function(scope) {\n",
              "function span(text, styleAttributes = {}) {\n",
              "  const element = document.createElement('span');\n",
              "  element.textContent = text;\n",
              "  for (const key of Object.keys(styleAttributes)) {\n",
              "    element.style[key] = styleAttributes[key];\n",
              "  }\n",
              "  return element;\n",
              "}\n",
              "\n",
              "// Max number of bytes which will be uploaded at a time.\n",
              "const MAX_PAYLOAD_SIZE = 100 * 1024;\n",
              "\n",
              "function _uploadFiles(inputId, outputId) {\n",
              "  const steps = uploadFilesStep(inputId, outputId);\n",
              "  const outputElement = document.getElementById(outputId);\n",
              "  // Cache steps on the outputElement to make it available for the next call\n",
              "  // to uploadFilesContinue from Python.\n",
              "  outputElement.steps = steps;\n",
              "\n",
              "  return _uploadFilesContinue(outputId);\n",
              "}\n",
              "\n",
              "// This is roughly an async generator (not supported in the browser yet),\n",
              "// where there are multiple asynchronous steps and the Python side is going\n",
              "// to poll for completion of each step.\n",
              "// This uses a Promise to block the python side on completion of each step,\n",
              "// then passes the result of the previous step as the input to the next step.\n",
              "function _uploadFilesContinue(outputId) {\n",
              "  const outputElement = document.getElementById(outputId);\n",
              "  const steps = outputElement.steps;\n",
              "\n",
              "  const next = steps.next(outputElement.lastPromiseValue);\n",
              "  return Promise.resolve(next.value.promise).then((value) => {\n",
              "    // Cache the last promise value to make it available to the next\n",
              "    // step of the generator.\n",
              "    outputElement.lastPromiseValue = value;\n",
              "    return next.value.response;\n",
              "  });\n",
              "}\n",
              "\n",
              "/**\n",
              " * Generator function which is called between each async step of the upload\n",
              " * process.\n",
              " * @param {string} inputId Element ID of the input file picker element.\n",
              " * @param {string} outputId Element ID of the output display.\n",
              " * @return {!Iterable<!Object>} Iterable of next steps.\n",
              " */\n",
              "function* uploadFilesStep(inputId, outputId) {\n",
              "  const inputElement = document.getElementById(inputId);\n",
              "  inputElement.disabled = false;\n",
              "\n",
              "  const outputElement = document.getElementById(outputId);\n",
              "  outputElement.innerHTML = '';\n",
              "\n",
              "  const pickedPromise = new Promise((resolve) => {\n",
              "    inputElement.addEventListener('change', (e) => {\n",
              "      resolve(e.target.files);\n",
              "    });\n",
              "  });\n",
              "\n",
              "  const cancel = document.createElement('button');\n",
              "  inputElement.parentElement.appendChild(cancel);\n",
              "  cancel.textContent = 'Cancel upload';\n",
              "  const cancelPromise = new Promise((resolve) => {\n",
              "    cancel.onclick = () => {\n",
              "      resolve(null);\n",
              "    };\n",
              "  });\n",
              "\n",
              "  // Wait for the user to pick the files.\n",
              "  const files = yield {\n",
              "    promise: Promise.race([pickedPromise, cancelPromise]),\n",
              "    response: {\n",
              "      action: 'starting',\n",
              "    }\n",
              "  };\n",
              "\n",
              "  cancel.remove();\n",
              "\n",
              "  // Disable the input element since further picks are not allowed.\n",
              "  inputElement.disabled = true;\n",
              "\n",
              "  if (!files) {\n",
              "    return {\n",
              "      response: {\n",
              "        action: 'complete',\n",
              "      }\n",
              "    };\n",
              "  }\n",
              "\n",
              "  for (const file of files) {\n",
              "    const li = document.createElement('li');\n",
              "    li.append(span(file.name, {fontWeight: 'bold'}));\n",
              "    li.append(span(\n",
              "        `(${file.type || 'n/a'}) - ${file.size} bytes, ` +\n",
              "        `last modified: ${\n",
              "            file.lastModifiedDate ? file.lastModifiedDate.toLocaleDateString() :\n",
              "                                    'n/a'} - `));\n",
              "    const percent = span('0% done');\n",
              "    li.appendChild(percent);\n",
              "\n",
              "    outputElement.appendChild(li);\n",
              "\n",
              "    const fileDataPromise = new Promise((resolve) => {\n",
              "      const reader = new FileReader();\n",
              "      reader.onload = (e) => {\n",
              "        resolve(e.target.result);\n",
              "      };\n",
              "      reader.readAsArrayBuffer(file);\n",
              "    });\n",
              "    // Wait for the data to be ready.\n",
              "    let fileData = yield {\n",
              "      promise: fileDataPromise,\n",
              "      response: {\n",
              "        action: 'continue',\n",
              "      }\n",
              "    };\n",
              "\n",
              "    // Use a chunked sending to avoid message size limits. See b/62115660.\n",
              "    let position = 0;\n",
              "    do {\n",
              "      const length = Math.min(fileData.byteLength - position, MAX_PAYLOAD_SIZE);\n",
              "      const chunk = new Uint8Array(fileData, position, length);\n",
              "      position += length;\n",
              "\n",
              "      const base64 = btoa(String.fromCharCode.apply(null, chunk));\n",
              "      yield {\n",
              "        response: {\n",
              "          action: 'append',\n",
              "          file: file.name,\n",
              "          data: base64,\n",
              "        },\n",
              "      };\n",
              "\n",
              "      let percentDone = fileData.byteLength === 0 ?\n",
              "          100 :\n",
              "          Math.round((position / fileData.byteLength) * 100);\n",
              "      percent.textContent = `${percentDone}% done`;\n",
              "\n",
              "    } while (position < fileData.byteLength);\n",
              "  }\n",
              "\n",
              "  // All done.\n",
              "  yield {\n",
              "    response: {\n",
              "      action: 'complete',\n",
              "    }\n",
              "  };\n",
              "}\n",
              "\n",
              "scope.google = scope.google || {};\n",
              "scope.google.colab = scope.google.colab || {};\n",
              "scope.google.colab._files = {\n",
              "  _uploadFiles,\n",
              "  _uploadFilesContinue,\n",
              "};\n",
              "})(self);\n",
              "</script> "
            ]
          },
          "metadata": {}
        }
      ],
      "source": [
        "from google.colab import files\n",
        "uploaded = files.upload()\n"
      ]
    },
    {
      "cell_type": "markdown",
      "source": [
        "Analyzing The Dataset Features"
      ],
      "metadata": {
        "id": "iNI86UESJg7B"
      }
    },
    {
      "cell_type": "code",
      "source": [
        "from google.colab import drive\n",
        "drive.mount('/content/drive')"
      ],
      "metadata": {
        "colab": {
          "base_uri": "https://localhost:8080/"
        },
        "id": "jamWqj94HbP9",
        "outputId": "2d2069ec-ed9c-44c3-9254-4ab2858ee1a4"
      },
      "execution_count": 3,
      "outputs": [
        {
          "output_type": "stream",
          "name": "stdout",
          "text": [
            "Mounted at /content/drive\n"
          ]
        }
      ]
    },
    {
      "cell_type": "markdown",
      "source": [
        "This is how our dataset looks. Once you have identified the input features and the values to be predicted (in our case ‘Purchased’ is the column to be predicted and the rest are the input features) let us analyze the data we have.\n"
      ],
      "metadata": {
        "id": "lSN522jhKD8T"
      }
    },
    {
      "cell_type": "code",
      "source": [
        "import numpy as np\n",
        "import matplotlib.pyplot as plt\n",
        "import pandas as pd\n",
        "dataset= pd.read_csv(\"/content/drive/MyDrive/Data1.txt\")\n",
        "print(dataset.head(30))"
      ],
      "metadata": {
        "colab": {
          "base_uri": "https://localhost:8080/"
        },
        "id": "ONlqWDrtHylm",
        "outputId": "edb24660-e1d5-47f5-c910-cff127eec65b"
      },
      "execution_count": 135,
      "outputs": [
        {
          "output_type": "stream",
          "name": "stdout",
          "text": [
            "       Name  Year       Department  Grade  Attendance Rate Hosteler\n",
            "0     Aarav   2.0  ComputerScience   85.0             90.0      Yes\n",
            "1      Sita   3.0         Business    NaN             85.0       No\n",
            "2       Raj   1.0              Law   92.0             95.0      Yes\n",
            "3     Priya   4.0      Mathematics   88.0             80.0       No\n",
            "4    Naveen   NaN       Integrated   74.0              NaN      Yes\n",
            "5    Ananya   3.0  ComputerScience    NaN             85.0       No\n",
            "6     Kiran   1.0         Medicine   90.0             92.0      Yes\n",
            "7   Lakshmi   NaN       Psychology   81.0              NaN       No\n",
            "8     Kabir   4.0        Economics    NaN             76.0       No\n",
            "9    Saanvi   3.0  ComputerScience   89.0              NaN      Yes\n",
            "10    Arjun   NaN      Engineering   82.0              NaN       No\n",
            "11    Meera   3.0             Arts   91.0              NaN      Yes\n",
            "12   Aditya   1.0     Architecture    NaN             80.0       No\n",
            "13     Rani   4.0      Engineering    NaN             70.0      Yes\n",
            "14    Kumar   2.0       Integrated   78.0              NaN       No\n",
            "15     Riya   3.0      Mathematics    NaN             82.0      Yes\n",
            "16    Vijay   1.0         Medicine    NaN             90.0      Yes\n",
            "17    Nisha   4.0          Physics    NaN             85.0       No\n",
            "18    Rahul   NaN        Economics    NaN             80.0      Yes\n",
            "19     Isha   3.0       Psychology   79.0              NaN       No\n",
            "20     Neel   1.0             Arts    NaN             85.0      Yes\n",
            "21    Sonia   4.0  ComputerScience    NaN             90.0       No\n"
          ]
        }
      ]
    },
    {
      "cell_type": "markdown",
      "source": [
        "This is how our dataset looks. Once you have identified the input features and the values to be predicted (in our case ‘Purchased’ is the column to be predicted and the rest are the input features) let us analyze the data we have."
      ],
      "metadata": {
        "id": "qSlmJY_iJ-Ea"
      }
    },
    {
      "cell_type": "code",
      "source": [
        "x= dataset.iloc[:,1:-1].values\n",
        "y= dataset.iloc[:,-1].values\n",
        "print (x)"
      ],
      "metadata": {
        "colab": {
          "base_uri": "https://localhost:8080/"
        },
        "id": "D3Hnq2VtIz9w",
        "outputId": "9eb23f07-e735-489c-f3b9-9bf5fb50b1bd"
      },
      "execution_count": 136,
      "outputs": [
        {
          "output_type": "stream",
          "name": "stdout",
          "text": [
            "[[2.0 'ComputerScience' 85.0 90.0]\n",
            " [3.0 'Business' nan 85.0]\n",
            " [1.0 'Law' 92.0 95.0]\n",
            " [4.0 'Mathematics' 88.0 80.0]\n",
            " [nan 'Integrated' 74.0 nan]\n",
            " [3.0 'ComputerScience' nan 85.0]\n",
            " [1.0 'Medicine' 90.0 92.0]\n",
            " [nan 'Psychology' 81.0 nan]\n",
            " [4.0 'Economics' nan 76.0]\n",
            " [3.0 'ComputerScience' 89.0 nan]\n",
            " [nan 'Engineering' 82.0 nan]\n",
            " [3.0 'Arts' 91.0 nan]\n",
            " [1.0 'Architecture' nan 80.0]\n",
            " [4.0 'Engineering' nan 70.0]\n",
            " [2.0 'Integrated' 78.0 nan]\n",
            " [3.0 'Mathematics' nan 82.0]\n",
            " [1.0 'Medicine' nan 90.0]\n",
            " [4.0 'Physics' nan 85.0]\n",
            " [nan 'Economics' nan 80.0]\n",
            " [3.0 'Psychology' 79.0 nan]\n",
            " [1.0 'Arts' nan 85.0]\n",
            " [4.0 'ComputerScience' nan 90.0]]\n"
          ]
        }
      ]
    },
    {
      "cell_type": "code",
      "source": [
        "print(y)"
      ],
      "metadata": {
        "colab": {
          "base_uri": "https://localhost:8080/"
        },
        "id": "fzYPdhh4KuE4",
        "outputId": "e5bb5c87-3c4d-4140-ee4d-8192765ca6be"
      },
      "execution_count": 137,
      "outputs": [
        {
          "output_type": "stream",
          "name": "stdout",
          "text": [
            "['Yes' 'No' 'Yes' 'No' 'Yes' 'No' 'Yes' 'No' 'No' 'Yes' 'No' 'Yes' 'No'\n",
            " 'Yes' 'No' 'Yes' 'Yes' 'No' 'Yes' 'No' 'Yes' 'No']\n"
          ]
        }
      ]
    },
    {
      "cell_type": "markdown",
      "source": [],
      "metadata": {
        "id": "91FXenbyK8mk"
      }
    },
    {
      "cell_type": "code",
      "source": [],
      "metadata": {
        "id": "cEXPWRdZLBUk"
      },
      "execution_count": null,
      "outputs": []
    },
    {
      "cell_type": "markdown",
      "source": [
        "Handling Missing Data – An important Feature Engineering Step"
      ],
      "metadata": {
        "id": "o4CJxMZUMQzb"
      }
    },
    {
      "cell_type": "markdown",
      "source": [
        "A neat way to do that would be to display the sum of all the null values in each column of our dataset. The following line of code helps us do just that."
      ],
      "metadata": {
        "id": "ea4RcIVsMRoJ"
      }
    },
    {
      "cell_type": "code",
      "source": [
        "dataset.isnull().sum()"
      ],
      "metadata": {
        "colab": {
          "base_uri": "https://localhost:8080/",
          "height": 272
        },
        "id": "zBDs1JmuMXhs",
        "outputId": "9eb1a5ec-350c-4399-f304-3da94a4f2a89"
      },
      "execution_count": 138,
      "outputs": [
        {
          "output_type": "execute_result",
          "data": {
            "text/plain": [
              "Name                0\n",
              "Year                4\n",
              "Department          0\n",
              "Grade              11\n",
              "Attendance Rate     7\n",
              "Hosteler            0\n",
              "dtype: int64"
            ],
            "text/html": [
              "<div>\n",
              "<style scoped>\n",
              "    .dataframe tbody tr th:only-of-type {\n",
              "        vertical-align: middle;\n",
              "    }\n",
              "\n",
              "    .dataframe tbody tr th {\n",
              "        vertical-align: top;\n",
              "    }\n",
              "\n",
              "    .dataframe thead th {\n",
              "        text-align: right;\n",
              "    }\n",
              "</style>\n",
              "<table border=\"1\" class=\"dataframe\">\n",
              "  <thead>\n",
              "    <tr style=\"text-align: right;\">\n",
              "      <th></th>\n",
              "      <th>0</th>\n",
              "    </tr>\n",
              "  </thead>\n",
              "  <tbody>\n",
              "    <tr>\n",
              "      <th>Name</th>\n",
              "      <td>0</td>\n",
              "    </tr>\n",
              "    <tr>\n",
              "      <th>Year</th>\n",
              "      <td>4</td>\n",
              "    </tr>\n",
              "    <tr>\n",
              "      <th>Department</th>\n",
              "      <td>0</td>\n",
              "    </tr>\n",
              "    <tr>\n",
              "      <th>Grade</th>\n",
              "      <td>11</td>\n",
              "    </tr>\n",
              "    <tr>\n",
              "      <th>Attendance Rate</th>\n",
              "      <td>7</td>\n",
              "    </tr>\n",
              "    <tr>\n",
              "      <th>Hosteler</th>\n",
              "      <td>0</td>\n",
              "    </tr>\n",
              "  </tbody>\n",
              "</table>\n",
              "</div><br><label><b>dtype:</b> int64</label>"
            ]
          },
          "metadata": {},
          "execution_count": 138
        }
      ]
    },
    {
      "cell_type": "markdown",
      "source": [
        "This gives us a very clear representation of the total number of missing values present in each column. Now let us see how we can handle these missing values."
      ],
      "metadata": {
        "id": "t0ucZjsaMgHD"
      }
    },
    {
      "cell_type": "markdown",
      "source": [
        "Sometimes there may be certain features in our dataset which contain multiple empty entries or null values. These columns which have a very high number of null values often do not contribute much to the predicted output. In such cases, we may choose to completely delete the column.\n",
        "\n",
        "We can fix a certain threshold value, say 70% or 80%, and if the number of null values exceeds the threshold we may want to delete that particular column from our training dataset."
      ],
      "metadata": {
        "id": "YjJbfOTRMfpd"
      }
    },
    {
      "cell_type": "code",
      "source": [
        "threshold=0.7\n",
        "dataset = dataset[dataset.columns[dataset.isnull().mean() < threshold]]\n",
        "print(dataset)"
      ],
      "metadata": {
        "colab": {
          "base_uri": "https://localhost:8080/"
        },
        "id": "7DYqnxx3Mkom",
        "outputId": "eb0acbfb-9278-4f81-cbef-0f977cae6b2e"
      },
      "execution_count": 139,
      "outputs": [
        {
          "output_type": "stream",
          "name": "stdout",
          "text": [
            "       Name  Year       Department  Grade  Attendance Rate Hosteler\n",
            "0     Aarav   2.0  ComputerScience   85.0             90.0      Yes\n",
            "1      Sita   3.0         Business    NaN             85.0       No\n",
            "2       Raj   1.0              Law   92.0             95.0      Yes\n",
            "3     Priya   4.0      Mathematics   88.0             80.0       No\n",
            "4    Naveen   NaN       Integrated   74.0              NaN      Yes\n",
            "5    Ananya   3.0  ComputerScience    NaN             85.0       No\n",
            "6     Kiran   1.0         Medicine   90.0             92.0      Yes\n",
            "7   Lakshmi   NaN       Psychology   81.0              NaN       No\n",
            "8     Kabir   4.0        Economics    NaN             76.0       No\n",
            "9    Saanvi   3.0  ComputerScience   89.0              NaN      Yes\n",
            "10    Arjun   NaN      Engineering   82.0              NaN       No\n",
            "11    Meera   3.0             Arts   91.0              NaN      Yes\n",
            "12   Aditya   1.0     Architecture    NaN             80.0       No\n",
            "13     Rani   4.0      Engineering    NaN             70.0      Yes\n",
            "14    Kumar   2.0       Integrated   78.0              NaN       No\n",
            "15     Riya   3.0      Mathematics    NaN             82.0      Yes\n",
            "16    Vijay   1.0         Medicine    NaN             90.0      Yes\n",
            "17    Nisha   4.0          Physics    NaN             85.0       No\n",
            "18    Rahul   NaN        Economics    NaN             80.0      Yes\n",
            "19     Isha   3.0       Psychology   79.0              NaN       No\n",
            "20     Neel   1.0             Arts    NaN             85.0      Yes\n",
            "21    Sonia   4.0  ComputerScience    NaN             90.0       No\n"
          ]
        }
      ]
    },
    {
      "cell_type": "markdown",
      "source": [
        "this piece of code is doing is basically selecting only those columns which have null values less than the given threshold value. In our example, we see that the ‘Cars’ column has been removed. The number of null values is 14 and the total number of entries per column is 20. As the number of null values is not less than our desired threshold, we delete the column."
      ],
      "metadata": {
        "id": "NeZptAWnM4ql"
      }
    },
    {
      "cell_type": "code",
      "source": [],
      "metadata": {
        "id": "lBvkAi_QN1dm"
      },
      "execution_count": null,
      "outputs": []
    },
    {
      "cell_type": "markdown",
      "source": [
        "Imputing Missing Values refers to the process of filling up the missing values with some values computed from the corresponding feature columns.\n",
        "\n",
        "We can use a number of strategies for Imputing the values of Continuous variables. Some such strategies are imputing with Mean, Median or Mode."
      ],
      "metadata": {
        "id": "PiiaU31lNESx"
      }
    },
    {
      "cell_type": "code",
      "source": [
        "## Let us first display our original variable x.\n",
        "\n",
        "x= dataset.iloc[:,1:-1].values\n",
        "\n",
        "y= dataset.iloc[:,-1].values\n",
        "\n",
        "print(x)"
      ],
      "metadata": {
        "colab": {
          "base_uri": "https://localhost:8080/"
        },
        "id": "NPnGjesTOcHU",
        "outputId": "17e582b3-e391-4a57-d957-24d3603785e5"
      },
      "execution_count": 140,
      "outputs": [
        {
          "output_type": "stream",
          "name": "stdout",
          "text": [
            "[[2.0 'ComputerScience' 85.0 90.0]\n",
            " [3.0 'Business' nan 85.0]\n",
            " [1.0 'Law' 92.0 95.0]\n",
            " [4.0 'Mathematics' 88.0 80.0]\n",
            " [nan 'Integrated' 74.0 nan]\n",
            " [3.0 'ComputerScience' nan 85.0]\n",
            " [1.0 'Medicine' 90.0 92.0]\n",
            " [nan 'Psychology' 81.0 nan]\n",
            " [4.0 'Economics' nan 76.0]\n",
            " [3.0 'ComputerScience' 89.0 nan]\n",
            " [nan 'Engineering' 82.0 nan]\n",
            " [3.0 'Arts' 91.0 nan]\n",
            " [1.0 'Architecture' nan 80.0]\n",
            " [4.0 'Engineering' nan 70.0]\n",
            " [2.0 'Integrated' 78.0 nan]\n",
            " [3.0 'Mathematics' nan 82.0]\n",
            " [1.0 'Medicine' nan 90.0]\n",
            " [4.0 'Physics' nan 85.0]\n",
            " [nan 'Economics' nan 80.0]\n",
            " [3.0 'Psychology' 79.0 nan]\n",
            " [1.0 'Arts' nan 85.0]\n",
            " [4.0 'ComputerScience' nan 90.0]]\n"
          ]
        }
      ]
    },
    {
      "cell_type": "markdown",
      "source": [],
      "metadata": {
        "id": "WlXUcgGnRU1i"
      }
    },
    {
      "cell_type": "code",
      "source": [
        "print(y)"
      ],
      "metadata": {
        "colab": {
          "base_uri": "https://localhost:8080/"
        },
        "id": "RqDuagdwRnsT",
        "outputId": "c0d01ee6-b47d-4602-9ddc-88d6d1cd2227"
      },
      "execution_count": 141,
      "outputs": [
        {
          "output_type": "stream",
          "name": "stdout",
          "text": [
            "['Yes' 'No' 'Yes' 'No' 'Yes' 'No' 'Yes' 'No' 'No' 'Yes' 'No' 'Yes' 'No'\n",
            " 'Yes' 'No' 'Yes' 'Yes' 'No' 'Yes' 'No' 'Yes' 'No']\n"
          ]
        }
      ]
    },
    {
      "cell_type": "markdown",
      "source": [
        "@@ IMPUTING WITH MEAN @@\n",
        "\n",
        "Now, to do this, we will import SimpleImputer from sklearn.impute and pass our strategy as the parameter. We shall also specify the columns in which this strategy is to be applied using the slicing."
      ],
      "metadata": {
        "id": "Xgw3qXBFRt7Q"
      }
    },
    {
      "cell_type": "code",
      "source": [
        "from sklearn.impute import SimpleImputer\n",
        "imputer =SimpleImputer(missing_values=np.nan, strategy= \"mean\")\n",
        "imputer.fit(x[:,2:3])\n",
        "x[:,2:3]= imputer.transform(x[:,2:3])"
      ],
      "metadata": {
        "id": "vQBqz3i8RvEN"
      },
      "execution_count": 142,
      "outputs": []
    },
    {
      "cell_type": "markdown",
      "source": [
        "@@ IMPUTING WITH MEDIAN @@\n",
        "\n",
        "Now, to do this, we will import SimpleImputer from sklearn.impute and pass our strategy as the parameter. We shall also specify the columns in which this strategy is to be applied using the slicing."
      ],
      "metadata": {
        "id": "jqSU4v_kdGE_"
      }
    },
    {
      "cell_type": "code",
      "source": [
        "from sklearn.impute import SimpleImputer\n",
        "imputer =SimpleImputer(missing_values=np.nan, strategy= \"median\")\n",
        "imputer.fit(x[:,2:3])\n",
        "x[:,2:3]= imputer.transform(x[:,2:3])"
      ],
      "metadata": {
        "id": "9y9QvJHaRx6r"
      },
      "execution_count": 143,
      "outputs": []
    },
    {
      "cell_type": "markdown",
      "source": [
        "@@ IMPUTING WITH MODE @@\n",
        "\n",
        "Now, to do this, we will import SimpleImputer from sklearn.impute and pass our strategy as the parameter. We shall also specify the columns in which this strategy is to be applied using the slicing."
      ],
      "metadata": {
        "id": "K7htkkuodIxA"
      }
    },
    {
      "cell_type": "code",
      "source": [
        "from sklearn.impute import SimpleImputer\n",
        "imputer =SimpleImputer(missing_values=np.nan, strategy= \"most_frequent\")\n",
        "imputer.fit(x[:,1:3])\n",
        "x[:,1:3]= imputer.transform(x[:,1:3])"
      ],
      "metadata": {
        "id": "qnBxeM5fdLZu"
      },
      "execution_count": 144,
      "outputs": []
    },
    {
      "cell_type": "code",
      "source": [
        "print(x)"
      ],
      "metadata": {
        "colab": {
          "base_uri": "https://localhost:8080/"
        },
        "id": "Ru9vD-ZKiPtp",
        "outputId": "27e70767-ffcf-4c15-b036-502e14c3fd56"
      },
      "execution_count": 145,
      "outputs": [
        {
          "output_type": "stream",
          "name": "stdout",
          "text": [
            "[[2.0 'ComputerScience' 85.0 90.0]\n",
            " [3.0 'Business' 84.45454545454545 85.0]\n",
            " [1.0 'Law' 92.0 95.0]\n",
            " [4.0 'Mathematics' 88.0 80.0]\n",
            " [nan 'Integrated' 74.0 nan]\n",
            " [3.0 'ComputerScience' 84.45454545454545 85.0]\n",
            " [1.0 'Medicine' 90.0 92.0]\n",
            " [nan 'Psychology' 81.0 nan]\n",
            " [4.0 'Economics' 84.45454545454545 76.0]\n",
            " [3.0 'ComputerScience' 89.0 nan]\n",
            " [nan 'Engineering' 82.0 nan]\n",
            " [3.0 'Arts' 91.0 nan]\n",
            " [1.0 'Architecture' 84.45454545454545 80.0]\n",
            " [4.0 'Engineering' 84.45454545454545 70.0]\n",
            " [2.0 'Integrated' 78.0 nan]\n",
            " [3.0 'Mathematics' 84.45454545454545 82.0]\n",
            " [1.0 'Medicine' 84.45454545454545 90.0]\n",
            " [4.0 'Physics' 84.45454545454545 85.0]\n",
            " [nan 'Economics' 84.45454545454545 80.0]\n",
            " [3.0 'Psychology' 79.0 nan]\n",
            " [1.0 'Arts' 84.45454545454545 85.0]\n",
            " [4.0 'ComputerScience' 84.45454545454545 90.0]]\n"
          ]
        }
      ]
    },
    {
      "cell_type": "markdown",
      "source": [
        "let us modify our dataset a little and another new categorical \"Department\" which has a few missing entries. This will help us understand how to handle such cases. Our dataset now looks something like this:"
      ],
      "metadata": {
        "id": "qSaHWEERecYg"
      }
    },
    {
      "cell_type": "code",
      "source": [
        "import numpy as np\n",
        "import matplotlib.pyplot as plt\n",
        "import pandas as pd\n",
        "dataset= pd.read_csv(\"/content/drive/MyDrive/Data1.txt\")\n",
        "print(dataset.head(30))"
      ],
      "metadata": {
        "colab": {
          "base_uri": "https://localhost:8080/"
        },
        "id": "0CmONAlHdjSb",
        "outputId": "b4538ef6-1e24-479e-a59e-23ef203a89ec"
      },
      "execution_count": 164,
      "outputs": [
        {
          "output_type": "stream",
          "name": "stdout",
          "text": [
            "       Name  Year       Department  Grade  Attendance Rate Hosteler\n",
            "0     Aarav   2.0  ComputerScience   85.0             90.0      Yes\n",
            "1      Sita   3.0         Business    NaN             85.0       No\n",
            "2       Raj   1.0              Law   92.0             95.0      Yes\n",
            "3     Priya   4.0      Mathematics   88.0             80.0       No\n",
            "4    Naveen   NaN       Integrated   74.0              NaN      Yes\n",
            "5    Ananya   3.0  ComputerScience    NaN             85.0       No\n",
            "6     Kiran   1.0         Medicine   90.0             92.0      Yes\n",
            "7   Lakshmi   NaN       Psychology   81.0              NaN       No\n",
            "8     Kabir   4.0        Economics    NaN             76.0       No\n",
            "9    Saanvi   3.0  ComputerScience   89.0              NaN      Yes\n",
            "10    Arjun   NaN      Engineering   82.0              NaN       No\n",
            "11    Meera   3.0             Arts   91.0              NaN      Yes\n",
            "12   Aditya   1.0     Architecture    NaN             80.0       No\n",
            "13     Rani   4.0      Engineering    NaN             70.0      Yes\n",
            "14    Kumar   2.0       Integrated   78.0              NaN       No\n",
            "15     Riya   3.0      Mathematics    NaN             82.0      Yes\n",
            "16    Vijay   1.0         Medicine    NaN             90.0      Yes\n",
            "17    Nisha   4.0          Physics    NaN             85.0       No\n",
            "18    Rahul   NaN        Economics    NaN             80.0      Yes\n",
            "19     Isha   3.0       Psychology   79.0              NaN       No\n",
            "20     Neel   1.0             Arts    NaN             85.0      Yes\n",
            "21    Sonia   4.0  ComputerScience    NaN             90.0       No\n"
          ]
        }
      ]
    },
    {
      "cell_type": "markdown",
      "source": [
        "Checking missing values"
      ],
      "metadata": {
        "id": "YdXkGMncetKl"
      }
    },
    {
      "cell_type": "code",
      "source": [
        "dataset.isnull().sum()"
      ],
      "metadata": {
        "colab": {
          "base_uri": "https://localhost:8080/",
          "height": 272
        },
        "id": "VpQh4wsVesnh",
        "outputId": "9363d601-8d8d-4bd4-c466-74ae3209a5d9"
      },
      "execution_count": 165,
      "outputs": [
        {
          "output_type": "execute_result",
          "data": {
            "text/plain": [
              "Name                0\n",
              "Year                4\n",
              "Department          0\n",
              "Grade              11\n",
              "Attendance Rate     7\n",
              "Hosteler            0\n",
              "dtype: int64"
            ],
            "text/html": [
              "<div>\n",
              "<style scoped>\n",
              "    .dataframe tbody tr th:only-of-type {\n",
              "        vertical-align: middle;\n",
              "    }\n",
              "\n",
              "    .dataframe tbody tr th {\n",
              "        vertical-align: top;\n",
              "    }\n",
              "\n",
              "    .dataframe thead th {\n",
              "        text-align: right;\n",
              "    }\n",
              "</style>\n",
              "<table border=\"1\" class=\"dataframe\">\n",
              "  <thead>\n",
              "    <tr style=\"text-align: right;\">\n",
              "      <th></th>\n",
              "      <th>0</th>\n",
              "    </tr>\n",
              "  </thead>\n",
              "  <tbody>\n",
              "    <tr>\n",
              "      <th>Name</th>\n",
              "      <td>0</td>\n",
              "    </tr>\n",
              "    <tr>\n",
              "      <th>Year</th>\n",
              "      <td>4</td>\n",
              "    </tr>\n",
              "    <tr>\n",
              "      <th>Department</th>\n",
              "      <td>0</td>\n",
              "    </tr>\n",
              "    <tr>\n",
              "      <th>Grade</th>\n",
              "      <td>11</td>\n",
              "    </tr>\n",
              "    <tr>\n",
              "      <th>Attendance Rate</th>\n",
              "      <td>7</td>\n",
              "    </tr>\n",
              "    <tr>\n",
              "      <th>Hosteler</th>\n",
              "      <td>0</td>\n",
              "    </tr>\n",
              "  </tbody>\n",
              "</table>\n",
              "</div><br><label><b>dtype:</b> int64</label>"
            ]
          },
          "metadata": {},
          "execution_count": 165
        }
      ]
    },
    {
      "cell_type": "code",
      "source": [
        "dataset.head(10)\n",
        "#lets take only 10 values"
      ],
      "metadata": {
        "colab": {
          "base_uri": "https://localhost:8080/",
          "height": 363
        },
        "id": "F4zb-dS3e1rk",
        "outputId": "ccbdd62d-6a9f-4590-ed53-d8fb0470a87e"
      },
      "execution_count": 166,
      "outputs": [
        {
          "output_type": "execute_result",
          "data": {
            "text/plain": [
              "      Name  Year       Department  Grade  Attendance Rate Hosteler\n",
              "0    Aarav   2.0  ComputerScience   85.0             90.0      Yes\n",
              "1     Sita   3.0         Business    NaN             85.0       No\n",
              "2      Raj   1.0              Law   92.0             95.0      Yes\n",
              "3    Priya   4.0      Mathematics   88.0             80.0       No\n",
              "4   Naveen   NaN       Integrated   74.0              NaN      Yes\n",
              "5   Ananya   3.0  ComputerScience    NaN             85.0       No\n",
              "6    Kiran   1.0         Medicine   90.0             92.0      Yes\n",
              "7  Lakshmi   NaN       Psychology   81.0              NaN       No\n",
              "8    Kabir   4.0        Economics    NaN             76.0       No\n",
              "9   Saanvi   3.0  ComputerScience   89.0              NaN      Yes"
            ],
            "text/html": [
              "\n",
              "  <div id=\"df-5e215296-0398-4d65-8a77-ba9608667e01\" class=\"colab-df-container\">\n",
              "    <div>\n",
              "<style scoped>\n",
              "    .dataframe tbody tr th:only-of-type {\n",
              "        vertical-align: middle;\n",
              "    }\n",
              "\n",
              "    .dataframe tbody tr th {\n",
              "        vertical-align: top;\n",
              "    }\n",
              "\n",
              "    .dataframe thead th {\n",
              "        text-align: right;\n",
              "    }\n",
              "</style>\n",
              "<table border=\"1\" class=\"dataframe\">\n",
              "  <thead>\n",
              "    <tr style=\"text-align: right;\">\n",
              "      <th></th>\n",
              "      <th>Name</th>\n",
              "      <th>Year</th>\n",
              "      <th>Department</th>\n",
              "      <th>Grade</th>\n",
              "      <th>Attendance Rate</th>\n",
              "      <th>Hosteler</th>\n",
              "    </tr>\n",
              "  </thead>\n",
              "  <tbody>\n",
              "    <tr>\n",
              "      <th>0</th>\n",
              "      <td>Aarav</td>\n",
              "      <td>2.0</td>\n",
              "      <td>ComputerScience</td>\n",
              "      <td>85.0</td>\n",
              "      <td>90.0</td>\n",
              "      <td>Yes</td>\n",
              "    </tr>\n",
              "    <tr>\n",
              "      <th>1</th>\n",
              "      <td>Sita</td>\n",
              "      <td>3.0</td>\n",
              "      <td>Business</td>\n",
              "      <td>NaN</td>\n",
              "      <td>85.0</td>\n",
              "      <td>No</td>\n",
              "    </tr>\n",
              "    <tr>\n",
              "      <th>2</th>\n",
              "      <td>Raj</td>\n",
              "      <td>1.0</td>\n",
              "      <td>Law</td>\n",
              "      <td>92.0</td>\n",
              "      <td>95.0</td>\n",
              "      <td>Yes</td>\n",
              "    </tr>\n",
              "    <tr>\n",
              "      <th>3</th>\n",
              "      <td>Priya</td>\n",
              "      <td>4.0</td>\n",
              "      <td>Mathematics</td>\n",
              "      <td>88.0</td>\n",
              "      <td>80.0</td>\n",
              "      <td>No</td>\n",
              "    </tr>\n",
              "    <tr>\n",
              "      <th>4</th>\n",
              "      <td>Naveen</td>\n",
              "      <td>NaN</td>\n",
              "      <td>Integrated</td>\n",
              "      <td>74.0</td>\n",
              "      <td>NaN</td>\n",
              "      <td>Yes</td>\n",
              "    </tr>\n",
              "    <tr>\n",
              "      <th>5</th>\n",
              "      <td>Ananya</td>\n",
              "      <td>3.0</td>\n",
              "      <td>ComputerScience</td>\n",
              "      <td>NaN</td>\n",
              "      <td>85.0</td>\n",
              "      <td>No</td>\n",
              "    </tr>\n",
              "    <tr>\n",
              "      <th>6</th>\n",
              "      <td>Kiran</td>\n",
              "      <td>1.0</td>\n",
              "      <td>Medicine</td>\n",
              "      <td>90.0</td>\n",
              "      <td>92.0</td>\n",
              "      <td>Yes</td>\n",
              "    </tr>\n",
              "    <tr>\n",
              "      <th>7</th>\n",
              "      <td>Lakshmi</td>\n",
              "      <td>NaN</td>\n",
              "      <td>Psychology</td>\n",
              "      <td>81.0</td>\n",
              "      <td>NaN</td>\n",
              "      <td>No</td>\n",
              "    </tr>\n",
              "    <tr>\n",
              "      <th>8</th>\n",
              "      <td>Kabir</td>\n",
              "      <td>4.0</td>\n",
              "      <td>Economics</td>\n",
              "      <td>NaN</td>\n",
              "      <td>76.0</td>\n",
              "      <td>No</td>\n",
              "    </tr>\n",
              "    <tr>\n",
              "      <th>9</th>\n",
              "      <td>Saanvi</td>\n",
              "      <td>3.0</td>\n",
              "      <td>ComputerScience</td>\n",
              "      <td>89.0</td>\n",
              "      <td>NaN</td>\n",
              "      <td>Yes</td>\n",
              "    </tr>\n",
              "  </tbody>\n",
              "</table>\n",
              "</div>\n",
              "    <div class=\"colab-df-buttons\">\n",
              "\n",
              "  <div class=\"colab-df-container\">\n",
              "    <button class=\"colab-df-convert\" onclick=\"convertToInteractive('df-5e215296-0398-4d65-8a77-ba9608667e01')\"\n",
              "            title=\"Convert this dataframe to an interactive table.\"\n",
              "            style=\"display:none;\">\n",
              "\n",
              "  <svg xmlns=\"http://www.w3.org/2000/svg\" height=\"24px\" viewBox=\"0 -960 960 960\">\n",
              "    <path d=\"M120-120v-720h720v720H120Zm60-500h600v-160H180v160Zm220 220h160v-160H400v160Zm0 220h160v-160H400v160ZM180-400h160v-160H180v160Zm440 0h160v-160H620v160ZM180-180h160v-160H180v160Zm440 0h160v-160H620v160Z\"/>\n",
              "  </svg>\n",
              "    </button>\n",
              "\n",
              "  <style>\n",
              "    .colab-df-container {\n",
              "      display:flex;\n",
              "      gap: 12px;\n",
              "    }\n",
              "\n",
              "    .colab-df-convert {\n",
              "      background-color: #E8F0FE;\n",
              "      border: none;\n",
              "      border-radius: 50%;\n",
              "      cursor: pointer;\n",
              "      display: none;\n",
              "      fill: #1967D2;\n",
              "      height: 32px;\n",
              "      padding: 0 0 0 0;\n",
              "      width: 32px;\n",
              "    }\n",
              "\n",
              "    .colab-df-convert:hover {\n",
              "      background-color: #E2EBFA;\n",
              "      box-shadow: 0px 1px 2px rgba(60, 64, 67, 0.3), 0px 1px 3px 1px rgba(60, 64, 67, 0.15);\n",
              "      fill: #174EA6;\n",
              "    }\n",
              "\n",
              "    .colab-df-buttons div {\n",
              "      margin-bottom: 4px;\n",
              "    }\n",
              "\n",
              "    [theme=dark] .colab-df-convert {\n",
              "      background-color: #3B4455;\n",
              "      fill: #D2E3FC;\n",
              "    }\n",
              "\n",
              "    [theme=dark] .colab-df-convert:hover {\n",
              "      background-color: #434B5C;\n",
              "      box-shadow: 0px 1px 3px 1px rgba(0, 0, 0, 0.15);\n",
              "      filter: drop-shadow(0px 1px 2px rgba(0, 0, 0, 0.3));\n",
              "      fill: #FFFFFF;\n",
              "    }\n",
              "  </style>\n",
              "\n",
              "    <script>\n",
              "      const buttonEl =\n",
              "        document.querySelector('#df-5e215296-0398-4d65-8a77-ba9608667e01 button.colab-df-convert');\n",
              "      buttonEl.style.display =\n",
              "        google.colab.kernel.accessAllowed ? 'block' : 'none';\n",
              "\n",
              "      async function convertToInteractive(key) {\n",
              "        const element = document.querySelector('#df-5e215296-0398-4d65-8a77-ba9608667e01');\n",
              "        const dataTable =\n",
              "          await google.colab.kernel.invokeFunction('convertToInteractive',\n",
              "                                                    [key], {});\n",
              "        if (!dataTable) return;\n",
              "\n",
              "        const docLinkHtml = 'Like what you see? Visit the ' +\n",
              "          '<a target=\"_blank\" href=https://colab.research.google.com/notebooks/data_table.ipynb>data table notebook</a>'\n",
              "          + ' to learn more about interactive tables.';\n",
              "        element.innerHTML = '';\n",
              "        dataTable['output_type'] = 'display_data';\n",
              "        await google.colab.output.renderOutput(dataTable, element);\n",
              "        const docLink = document.createElement('div');\n",
              "        docLink.innerHTML = docLinkHtml;\n",
              "        element.appendChild(docLink);\n",
              "      }\n",
              "    </script>\n",
              "  </div>\n",
              "\n",
              "\n",
              "<div id=\"df-2d91592f-4d53-4c0f-94d8-b60b89b0b1e6\">\n",
              "  <button class=\"colab-df-quickchart\" onclick=\"quickchart('df-2d91592f-4d53-4c0f-94d8-b60b89b0b1e6')\"\n",
              "            title=\"Suggest charts\"\n",
              "            style=\"display:none;\">\n",
              "\n",
              "<svg xmlns=\"http://www.w3.org/2000/svg\" height=\"24px\"viewBox=\"0 0 24 24\"\n",
              "     width=\"24px\">\n",
              "    <g>\n",
              "        <path d=\"M19 3H5c-1.1 0-2 .9-2 2v14c0 1.1.9 2 2 2h14c1.1 0 2-.9 2-2V5c0-1.1-.9-2-2-2zM9 17H7v-7h2v7zm4 0h-2V7h2v10zm4 0h-2v-4h2v4z\"/>\n",
              "    </g>\n",
              "</svg>\n",
              "  </button>\n",
              "\n",
              "<style>\n",
              "  .colab-df-quickchart {\n",
              "      --bg-color: #E8F0FE;\n",
              "      --fill-color: #1967D2;\n",
              "      --hover-bg-color: #E2EBFA;\n",
              "      --hover-fill-color: #174EA6;\n",
              "      --disabled-fill-color: #AAA;\n",
              "      --disabled-bg-color: #DDD;\n",
              "  }\n",
              "\n",
              "  [theme=dark] .colab-df-quickchart {\n",
              "      --bg-color: #3B4455;\n",
              "      --fill-color: #D2E3FC;\n",
              "      --hover-bg-color: #434B5C;\n",
              "      --hover-fill-color: #FFFFFF;\n",
              "      --disabled-bg-color: #3B4455;\n",
              "      --disabled-fill-color: #666;\n",
              "  }\n",
              "\n",
              "  .colab-df-quickchart {\n",
              "    background-color: var(--bg-color);\n",
              "    border: none;\n",
              "    border-radius: 50%;\n",
              "    cursor: pointer;\n",
              "    display: none;\n",
              "    fill: var(--fill-color);\n",
              "    height: 32px;\n",
              "    padding: 0;\n",
              "    width: 32px;\n",
              "  }\n",
              "\n",
              "  .colab-df-quickchart:hover {\n",
              "    background-color: var(--hover-bg-color);\n",
              "    box-shadow: 0 1px 2px rgba(60, 64, 67, 0.3), 0 1px 3px 1px rgba(60, 64, 67, 0.15);\n",
              "    fill: var(--button-hover-fill-color);\n",
              "  }\n",
              "\n",
              "  .colab-df-quickchart-complete:disabled,\n",
              "  .colab-df-quickchart-complete:disabled:hover {\n",
              "    background-color: var(--disabled-bg-color);\n",
              "    fill: var(--disabled-fill-color);\n",
              "    box-shadow: none;\n",
              "  }\n",
              "\n",
              "  .colab-df-spinner {\n",
              "    border: 2px solid var(--fill-color);\n",
              "    border-color: transparent;\n",
              "    border-bottom-color: var(--fill-color);\n",
              "    animation:\n",
              "      spin 1s steps(1) infinite;\n",
              "  }\n",
              "\n",
              "  @keyframes spin {\n",
              "    0% {\n",
              "      border-color: transparent;\n",
              "      border-bottom-color: var(--fill-color);\n",
              "      border-left-color: var(--fill-color);\n",
              "    }\n",
              "    20% {\n",
              "      border-color: transparent;\n",
              "      border-left-color: var(--fill-color);\n",
              "      border-top-color: var(--fill-color);\n",
              "    }\n",
              "    30% {\n",
              "      border-color: transparent;\n",
              "      border-left-color: var(--fill-color);\n",
              "      border-top-color: var(--fill-color);\n",
              "      border-right-color: var(--fill-color);\n",
              "    }\n",
              "    40% {\n",
              "      border-color: transparent;\n",
              "      border-right-color: var(--fill-color);\n",
              "      border-top-color: var(--fill-color);\n",
              "    }\n",
              "    60% {\n",
              "      border-color: transparent;\n",
              "      border-right-color: var(--fill-color);\n",
              "    }\n",
              "    80% {\n",
              "      border-color: transparent;\n",
              "      border-right-color: var(--fill-color);\n",
              "      border-bottom-color: var(--fill-color);\n",
              "    }\n",
              "    90% {\n",
              "      border-color: transparent;\n",
              "      border-bottom-color: var(--fill-color);\n",
              "    }\n",
              "  }\n",
              "</style>\n",
              "\n",
              "  <script>\n",
              "    async function quickchart(key) {\n",
              "      const quickchartButtonEl =\n",
              "        document.querySelector('#' + key + ' button');\n",
              "      quickchartButtonEl.disabled = true;  // To prevent multiple clicks.\n",
              "      quickchartButtonEl.classList.add('colab-df-spinner');\n",
              "      try {\n",
              "        const charts = await google.colab.kernel.invokeFunction(\n",
              "            'suggestCharts', [key], {});\n",
              "      } catch (error) {\n",
              "        console.error('Error during call to suggestCharts:', error);\n",
              "      }\n",
              "      quickchartButtonEl.classList.remove('colab-df-spinner');\n",
              "      quickchartButtonEl.classList.add('colab-df-quickchart-complete');\n",
              "    }\n",
              "    (() => {\n",
              "      let quickchartButtonEl =\n",
              "        document.querySelector('#df-2d91592f-4d53-4c0f-94d8-b60b89b0b1e6 button');\n",
              "      quickchartButtonEl.style.display =\n",
              "        google.colab.kernel.accessAllowed ? 'block' : 'none';\n",
              "    })();\n",
              "  </script>\n",
              "</div>\n",
              "\n",
              "    </div>\n",
              "  </div>\n"
            ],
            "application/vnd.google.colaboratory.intrinsic+json": {
              "type": "dataframe",
              "summary": "{\n  \"name\": \"#lets take only 10 values\",\n  \"rows\": 10,\n  \"fields\": [\n    {\n      \"column\": \"Name\",\n      \"properties\": {\n        \"dtype\": \"string\",\n        \"num_unique_values\": 10,\n        \"samples\": [\n          \"Kabir\",\n          \"Sita\",\n          \"Ananya\"\n        ],\n        \"semantic_type\": \"\",\n        \"description\": \"\"\n      }\n    },\n    {\n      \"column\": \"Year\",\n      \"properties\": {\n        \"dtype\": \"number\",\n        \"std\": 1.1877349391654208,\n        \"min\": 1.0,\n        \"max\": 4.0,\n        \"num_unique_values\": 4,\n        \"samples\": [\n          3.0,\n          4.0,\n          2.0\n        ],\n        \"semantic_type\": \"\",\n        \"description\": \"\"\n      }\n    },\n    {\n      \"column\": \"Department\",\n      \"properties\": {\n        \"dtype\": \"string\",\n        \"num_unique_values\": 8,\n        \"samples\": [\n          \"Business\",\n          \"Medicine\",\n          \"ComputerScience\"\n        ],\n        \"semantic_type\": \"\",\n        \"description\": \"\"\n      }\n    },\n    {\n      \"column\": \"Grade\",\n      \"properties\": {\n        \"dtype\": \"number\",\n        \"std\": 6.241184258807054,\n        \"min\": 74.0,\n        \"max\": 92.0,\n        \"num_unique_values\": 7,\n        \"samples\": [\n          85.0,\n          92.0,\n          81.0\n        ],\n        \"semantic_type\": \"\",\n        \"description\": \"\"\n      }\n    },\n    {\n      \"column\": \"Attendance Rate\",\n      \"properties\": {\n        \"dtype\": \"number\",\n        \"std\": 6.718843437888483,\n        \"min\": 76.0,\n        \"max\": 95.0,\n        \"num_unique_values\": 6,\n        \"samples\": [\n          90.0,\n          85.0,\n          76.0\n        ],\n        \"semantic_type\": \"\",\n        \"description\": \"\"\n      }\n    },\n    {\n      \"column\": \"Hosteler\",\n      \"properties\": {\n        \"dtype\": \"category\",\n        \"num_unique_values\": 2,\n        \"samples\": [\n          \"No\",\n          \"Yes\"\n        ],\n        \"semantic_type\": \"\",\n        \"description\": \"\"\n      }\n    }\n  ]\n}"
            }
          },
          "metadata": {},
          "execution_count": 166
        }
      ]
    },
    {
      "cell_type": "markdown",
      "source": [
        "@@ASSIGNING A NEW CATEGORY TO THE MISSING CATEGORICAL VALUES\n",
        "\n",
        "Simply deleting the values which are missing, causes loss of information. To avoid that we can also replace the missing values with a new category. For example, we may assign ‘U’ to the missing genders where ‘U’ stands for Unknown."
      ],
      "metadata": {
        "id": "9cMdHHblfPHV"
      }
    },
    {
      "cell_type": "code",
      "source": [
        "dataset['Department']= dataset['Department'].fillna('U')\n",
        "dataset.head(10)"
      ],
      "metadata": {
        "colab": {
          "base_uri": "https://localhost:8080/",
          "height": 363
        },
        "id": "5s73bzQgfP2k",
        "outputId": "6563f8ce-0c1d-451f-c87a-c2f18134b091"
      },
      "execution_count": 167,
      "outputs": [
        {
          "output_type": "execute_result",
          "data": {
            "text/plain": [
              "      Name  Year       Department  Grade  Attendance Rate Hosteler\n",
              "0    Aarav   2.0  ComputerScience   85.0             90.0      Yes\n",
              "1     Sita   3.0         Business    NaN             85.0       No\n",
              "2      Raj   1.0              Law   92.0             95.0      Yes\n",
              "3    Priya   4.0      Mathematics   88.0             80.0       No\n",
              "4   Naveen   NaN       Integrated   74.0              NaN      Yes\n",
              "5   Ananya   3.0  ComputerScience    NaN             85.0       No\n",
              "6    Kiran   1.0         Medicine   90.0             92.0      Yes\n",
              "7  Lakshmi   NaN       Psychology   81.0              NaN       No\n",
              "8    Kabir   4.0        Economics    NaN             76.0       No\n",
              "9   Saanvi   3.0  ComputerScience   89.0              NaN      Yes"
            ],
            "text/html": [
              "\n",
              "  <div id=\"df-5d669d6b-10d1-4a93-98bd-6e1b86a581d0\" class=\"colab-df-container\">\n",
              "    <div>\n",
              "<style scoped>\n",
              "    .dataframe tbody tr th:only-of-type {\n",
              "        vertical-align: middle;\n",
              "    }\n",
              "\n",
              "    .dataframe tbody tr th {\n",
              "        vertical-align: top;\n",
              "    }\n",
              "\n",
              "    .dataframe thead th {\n",
              "        text-align: right;\n",
              "    }\n",
              "</style>\n",
              "<table border=\"1\" class=\"dataframe\">\n",
              "  <thead>\n",
              "    <tr style=\"text-align: right;\">\n",
              "      <th></th>\n",
              "      <th>Name</th>\n",
              "      <th>Year</th>\n",
              "      <th>Department</th>\n",
              "      <th>Grade</th>\n",
              "      <th>Attendance Rate</th>\n",
              "      <th>Hosteler</th>\n",
              "    </tr>\n",
              "  </thead>\n",
              "  <tbody>\n",
              "    <tr>\n",
              "      <th>0</th>\n",
              "      <td>Aarav</td>\n",
              "      <td>2.0</td>\n",
              "      <td>ComputerScience</td>\n",
              "      <td>85.0</td>\n",
              "      <td>90.0</td>\n",
              "      <td>Yes</td>\n",
              "    </tr>\n",
              "    <tr>\n",
              "      <th>1</th>\n",
              "      <td>Sita</td>\n",
              "      <td>3.0</td>\n",
              "      <td>Business</td>\n",
              "      <td>NaN</td>\n",
              "      <td>85.0</td>\n",
              "      <td>No</td>\n",
              "    </tr>\n",
              "    <tr>\n",
              "      <th>2</th>\n",
              "      <td>Raj</td>\n",
              "      <td>1.0</td>\n",
              "      <td>Law</td>\n",
              "      <td>92.0</td>\n",
              "      <td>95.0</td>\n",
              "      <td>Yes</td>\n",
              "    </tr>\n",
              "    <tr>\n",
              "      <th>3</th>\n",
              "      <td>Priya</td>\n",
              "      <td>4.0</td>\n",
              "      <td>Mathematics</td>\n",
              "      <td>88.0</td>\n",
              "      <td>80.0</td>\n",
              "      <td>No</td>\n",
              "    </tr>\n",
              "    <tr>\n",
              "      <th>4</th>\n",
              "      <td>Naveen</td>\n",
              "      <td>NaN</td>\n",
              "      <td>Integrated</td>\n",
              "      <td>74.0</td>\n",
              "      <td>NaN</td>\n",
              "      <td>Yes</td>\n",
              "    </tr>\n",
              "    <tr>\n",
              "      <th>5</th>\n",
              "      <td>Ananya</td>\n",
              "      <td>3.0</td>\n",
              "      <td>ComputerScience</td>\n",
              "      <td>NaN</td>\n",
              "      <td>85.0</td>\n",
              "      <td>No</td>\n",
              "    </tr>\n",
              "    <tr>\n",
              "      <th>6</th>\n",
              "      <td>Kiran</td>\n",
              "      <td>1.0</td>\n",
              "      <td>Medicine</td>\n",
              "      <td>90.0</td>\n",
              "      <td>92.0</td>\n",
              "      <td>Yes</td>\n",
              "    </tr>\n",
              "    <tr>\n",
              "      <th>7</th>\n",
              "      <td>Lakshmi</td>\n",
              "      <td>NaN</td>\n",
              "      <td>Psychology</td>\n",
              "      <td>81.0</td>\n",
              "      <td>NaN</td>\n",
              "      <td>No</td>\n",
              "    </tr>\n",
              "    <tr>\n",
              "      <th>8</th>\n",
              "      <td>Kabir</td>\n",
              "      <td>4.0</td>\n",
              "      <td>Economics</td>\n",
              "      <td>NaN</td>\n",
              "      <td>76.0</td>\n",
              "      <td>No</td>\n",
              "    </tr>\n",
              "    <tr>\n",
              "      <th>9</th>\n",
              "      <td>Saanvi</td>\n",
              "      <td>3.0</td>\n",
              "      <td>ComputerScience</td>\n",
              "      <td>89.0</td>\n",
              "      <td>NaN</td>\n",
              "      <td>Yes</td>\n",
              "    </tr>\n",
              "  </tbody>\n",
              "</table>\n",
              "</div>\n",
              "    <div class=\"colab-df-buttons\">\n",
              "\n",
              "  <div class=\"colab-df-container\">\n",
              "    <button class=\"colab-df-convert\" onclick=\"convertToInteractive('df-5d669d6b-10d1-4a93-98bd-6e1b86a581d0')\"\n",
              "            title=\"Convert this dataframe to an interactive table.\"\n",
              "            style=\"display:none;\">\n",
              "\n",
              "  <svg xmlns=\"http://www.w3.org/2000/svg\" height=\"24px\" viewBox=\"0 -960 960 960\">\n",
              "    <path d=\"M120-120v-720h720v720H120Zm60-500h600v-160H180v160Zm220 220h160v-160H400v160Zm0 220h160v-160H400v160ZM180-400h160v-160H180v160Zm440 0h160v-160H620v160ZM180-180h160v-160H180v160Zm440 0h160v-160H620v160Z\"/>\n",
              "  </svg>\n",
              "    </button>\n",
              "\n",
              "  <style>\n",
              "    .colab-df-container {\n",
              "      display:flex;\n",
              "      gap: 12px;\n",
              "    }\n",
              "\n",
              "    .colab-df-convert {\n",
              "      background-color: #E8F0FE;\n",
              "      border: none;\n",
              "      border-radius: 50%;\n",
              "      cursor: pointer;\n",
              "      display: none;\n",
              "      fill: #1967D2;\n",
              "      height: 32px;\n",
              "      padding: 0 0 0 0;\n",
              "      width: 32px;\n",
              "    }\n",
              "\n",
              "    .colab-df-convert:hover {\n",
              "      background-color: #E2EBFA;\n",
              "      box-shadow: 0px 1px 2px rgba(60, 64, 67, 0.3), 0px 1px 3px 1px rgba(60, 64, 67, 0.15);\n",
              "      fill: #174EA6;\n",
              "    }\n",
              "\n",
              "    .colab-df-buttons div {\n",
              "      margin-bottom: 4px;\n",
              "    }\n",
              "\n",
              "    [theme=dark] .colab-df-convert {\n",
              "      background-color: #3B4455;\n",
              "      fill: #D2E3FC;\n",
              "    }\n",
              "\n",
              "    [theme=dark] .colab-df-convert:hover {\n",
              "      background-color: #434B5C;\n",
              "      box-shadow: 0px 1px 3px 1px rgba(0, 0, 0, 0.15);\n",
              "      filter: drop-shadow(0px 1px 2px rgba(0, 0, 0, 0.3));\n",
              "      fill: #FFFFFF;\n",
              "    }\n",
              "  </style>\n",
              "\n",
              "    <script>\n",
              "      const buttonEl =\n",
              "        document.querySelector('#df-5d669d6b-10d1-4a93-98bd-6e1b86a581d0 button.colab-df-convert');\n",
              "      buttonEl.style.display =\n",
              "        google.colab.kernel.accessAllowed ? 'block' : 'none';\n",
              "\n",
              "      async function convertToInteractive(key) {\n",
              "        const element = document.querySelector('#df-5d669d6b-10d1-4a93-98bd-6e1b86a581d0');\n",
              "        const dataTable =\n",
              "          await google.colab.kernel.invokeFunction('convertToInteractive',\n",
              "                                                    [key], {});\n",
              "        if (!dataTable) return;\n",
              "\n",
              "        const docLinkHtml = 'Like what you see? Visit the ' +\n",
              "          '<a target=\"_blank\" href=https://colab.research.google.com/notebooks/data_table.ipynb>data table notebook</a>'\n",
              "          + ' to learn more about interactive tables.';\n",
              "        element.innerHTML = '';\n",
              "        dataTable['output_type'] = 'display_data';\n",
              "        await google.colab.output.renderOutput(dataTable, element);\n",
              "        const docLink = document.createElement('div');\n",
              "        docLink.innerHTML = docLinkHtml;\n",
              "        element.appendChild(docLink);\n",
              "      }\n",
              "    </script>\n",
              "  </div>\n",
              "\n",
              "\n",
              "<div id=\"df-db442ba9-a667-4a8a-8442-a51b8d80f605\">\n",
              "  <button class=\"colab-df-quickchart\" onclick=\"quickchart('df-db442ba9-a667-4a8a-8442-a51b8d80f605')\"\n",
              "            title=\"Suggest charts\"\n",
              "            style=\"display:none;\">\n",
              "\n",
              "<svg xmlns=\"http://www.w3.org/2000/svg\" height=\"24px\"viewBox=\"0 0 24 24\"\n",
              "     width=\"24px\">\n",
              "    <g>\n",
              "        <path d=\"M19 3H5c-1.1 0-2 .9-2 2v14c0 1.1.9 2 2 2h14c1.1 0 2-.9 2-2V5c0-1.1-.9-2-2-2zM9 17H7v-7h2v7zm4 0h-2V7h2v10zm4 0h-2v-4h2v4z\"/>\n",
              "    </g>\n",
              "</svg>\n",
              "  </button>\n",
              "\n",
              "<style>\n",
              "  .colab-df-quickchart {\n",
              "      --bg-color: #E8F0FE;\n",
              "      --fill-color: #1967D2;\n",
              "      --hover-bg-color: #E2EBFA;\n",
              "      --hover-fill-color: #174EA6;\n",
              "      --disabled-fill-color: #AAA;\n",
              "      --disabled-bg-color: #DDD;\n",
              "  }\n",
              "\n",
              "  [theme=dark] .colab-df-quickchart {\n",
              "      --bg-color: #3B4455;\n",
              "      --fill-color: #D2E3FC;\n",
              "      --hover-bg-color: #434B5C;\n",
              "      --hover-fill-color: #FFFFFF;\n",
              "      --disabled-bg-color: #3B4455;\n",
              "      --disabled-fill-color: #666;\n",
              "  }\n",
              "\n",
              "  .colab-df-quickchart {\n",
              "    background-color: var(--bg-color);\n",
              "    border: none;\n",
              "    border-radius: 50%;\n",
              "    cursor: pointer;\n",
              "    display: none;\n",
              "    fill: var(--fill-color);\n",
              "    height: 32px;\n",
              "    padding: 0;\n",
              "    width: 32px;\n",
              "  }\n",
              "\n",
              "  .colab-df-quickchart:hover {\n",
              "    background-color: var(--hover-bg-color);\n",
              "    box-shadow: 0 1px 2px rgba(60, 64, 67, 0.3), 0 1px 3px 1px rgba(60, 64, 67, 0.15);\n",
              "    fill: var(--button-hover-fill-color);\n",
              "  }\n",
              "\n",
              "  .colab-df-quickchart-complete:disabled,\n",
              "  .colab-df-quickchart-complete:disabled:hover {\n",
              "    background-color: var(--disabled-bg-color);\n",
              "    fill: var(--disabled-fill-color);\n",
              "    box-shadow: none;\n",
              "  }\n",
              "\n",
              "  .colab-df-spinner {\n",
              "    border: 2px solid var(--fill-color);\n",
              "    border-color: transparent;\n",
              "    border-bottom-color: var(--fill-color);\n",
              "    animation:\n",
              "      spin 1s steps(1) infinite;\n",
              "  }\n",
              "\n",
              "  @keyframes spin {\n",
              "    0% {\n",
              "      border-color: transparent;\n",
              "      border-bottom-color: var(--fill-color);\n",
              "      border-left-color: var(--fill-color);\n",
              "    }\n",
              "    20% {\n",
              "      border-color: transparent;\n",
              "      border-left-color: var(--fill-color);\n",
              "      border-top-color: var(--fill-color);\n",
              "    }\n",
              "    30% {\n",
              "      border-color: transparent;\n",
              "      border-left-color: var(--fill-color);\n",
              "      border-top-color: var(--fill-color);\n",
              "      border-right-color: var(--fill-color);\n",
              "    }\n",
              "    40% {\n",
              "      border-color: transparent;\n",
              "      border-right-color: var(--fill-color);\n",
              "      border-top-color: var(--fill-color);\n",
              "    }\n",
              "    60% {\n",
              "      border-color: transparent;\n",
              "      border-right-color: var(--fill-color);\n",
              "    }\n",
              "    80% {\n",
              "      border-color: transparent;\n",
              "      border-right-color: var(--fill-color);\n",
              "      border-bottom-color: var(--fill-color);\n",
              "    }\n",
              "    90% {\n",
              "      border-color: transparent;\n",
              "      border-bottom-color: var(--fill-color);\n",
              "    }\n",
              "  }\n",
              "</style>\n",
              "\n",
              "  <script>\n",
              "    async function quickchart(key) {\n",
              "      const quickchartButtonEl =\n",
              "        document.querySelector('#' + key + ' button');\n",
              "      quickchartButtonEl.disabled = true;  // To prevent multiple clicks.\n",
              "      quickchartButtonEl.classList.add('colab-df-spinner');\n",
              "      try {\n",
              "        const charts = await google.colab.kernel.invokeFunction(\n",
              "            'suggestCharts', [key], {});\n",
              "      } catch (error) {\n",
              "        console.error('Error during call to suggestCharts:', error);\n",
              "      }\n",
              "      quickchartButtonEl.classList.remove('colab-df-spinner');\n",
              "      quickchartButtonEl.classList.add('colab-df-quickchart-complete');\n",
              "    }\n",
              "    (() => {\n",
              "      let quickchartButtonEl =\n",
              "        document.querySelector('#df-db442ba9-a667-4a8a-8442-a51b8d80f605 button');\n",
              "      quickchartButtonEl.style.display =\n",
              "        google.colab.kernel.accessAllowed ? 'block' : 'none';\n",
              "    })();\n",
              "  </script>\n",
              "</div>\n",
              "\n",
              "    </div>\n",
              "  </div>\n"
            ],
            "application/vnd.google.colaboratory.intrinsic+json": {
              "type": "dataframe",
              "variable_name": "dataset",
              "summary": "{\n  \"name\": \"dataset\",\n  \"rows\": 22,\n  \"fields\": [\n    {\n      \"column\": \"Name\",\n      \"properties\": {\n        \"dtype\": \"string\",\n        \"num_unique_values\": 22,\n        \"samples\": [\n          \"Aarav\",\n          \"Rani\",\n          \"Kabir\"\n        ],\n        \"semantic_type\": \"\",\n        \"description\": \"\"\n      }\n    },\n    {\n      \"column\": \"Year\",\n      \"properties\": {\n        \"dtype\": \"number\",\n        \"std\": 1.1950332945836273,\n        \"min\": 1.0,\n        \"max\": 4.0,\n        \"num_unique_values\": 4,\n        \"samples\": [\n          3.0,\n          4.0,\n          2.0\n        ],\n        \"semantic_type\": \"\",\n        \"description\": \"\"\n      }\n    },\n    {\n      \"column\": \"Department\",\n      \"properties\": {\n        \"dtype\": \"string\",\n        \"num_unique_values\": 12,\n        \"samples\": [\n          \"Architecture\",\n          \"Arts\",\n          \"ComputerScience\"\n        ],\n        \"semantic_type\": \"\",\n        \"description\": \"\"\n      }\n    },\n    {\n      \"column\": \"Grade\",\n      \"properties\": {\n        \"dtype\": \"number\",\n        \"std\": 6.0226843909279575,\n        \"min\": 74.0,\n        \"max\": 92.0,\n        \"num_unique_values\": 11,\n        \"samples\": [\n          81.0,\n          85.0,\n          78.0\n        ],\n        \"semantic_type\": \"\",\n        \"description\": \"\"\n      }\n    },\n    {\n      \"column\": \"Attendance Rate\",\n      \"properties\": {\n        \"dtype\": \"number\",\n        \"std\": 6.586421819239366,\n        \"min\": 70.0,\n        \"max\": 95.0,\n        \"num_unique_values\": 8,\n        \"samples\": [\n          85.0,\n          76.0,\n          90.0\n        ],\n        \"semantic_type\": \"\",\n        \"description\": \"\"\n      }\n    },\n    {\n      \"column\": \"Hosteler\",\n      \"properties\": {\n        \"dtype\": \"category\",\n        \"num_unique_values\": 2,\n        \"samples\": [\n          \"No\",\n          \"Yes\"\n        ],\n        \"semantic_type\": \"\",\n        \"description\": \"\"\n      }\n    }\n  ]\n}"
            }
          },
          "metadata": {},
          "execution_count": 167
        }
      ]
    },
    {
      "cell_type": "markdown",
      "source": [
        "Here all the missing values in the dataset['Department']= dataset['Department'].fillna('U')\n",
        " column have been replaced with ‘U’. This method adds information to the dataset instead of causing information loss."
      ],
      "metadata": {
        "id": "KJyt1Ar4fbGu"
      }
    },
    {
      "cell_type": "markdown",
      "source": [
        "We are going to substitute the mode value in the missing fields. Since in our dataset the category with the highest frequency is \"ComputerScience\", the missing values should be substituted with \"ComputerScience\"."
      ],
      "metadata": {
        "id": "IUJJMiOIfqoI"
      }
    },
    {
      "cell_type": "code",
      "source": [
        "# Replace 'U' with the mode of the Department column\n",
        "mode_department = dataset['Department'].mode()[0]\n",
        "dataset['Department'] = dataset['Department'].replace('U', mode_department)\n"
      ],
      "metadata": {
        "id": "fzth-DCqfp2Y"
      },
      "execution_count": 168,
      "outputs": []
    },
    {
      "cell_type": "code",
      "source": [
        "dataset.head(30)"
      ],
      "metadata": {
        "colab": {
          "base_uri": "https://localhost:8080/",
          "height": 739
        },
        "id": "wdMO5W1Ei5Nd",
        "outputId": "e4c6e77e-5687-4d64-e921-271912044319"
      },
      "execution_count": 160,
      "outputs": [
        {
          "output_type": "execute_result",
          "data": {
            "text/plain": [
              "       Name       Department  Grade  Attendance Rate Hosteler\n",
              "0     Aarav  ComputerScience   85.0             90.0      Yes\n",
              "1      Sita         Business    NaN             85.0       No\n",
              "2       Raj              Law   92.0             95.0      Yes\n",
              "3     Priya      Mathematics   88.0             80.0       No\n",
              "4    Naveen       Integrated   74.0              NaN      Yes\n",
              "5    Ananya  ComputerScience    NaN             85.0       No\n",
              "6     Kiran         Medicine   90.0             92.0      Yes\n",
              "7   Lakshmi       Psychology   81.0              NaN       No\n",
              "8     Kabir        Economics    NaN             76.0       No\n",
              "9    Saanvi  ComputerScience   89.0              NaN      Yes\n",
              "10    Arjun      Engineering   82.0              NaN       No\n",
              "11    Meera             Arts   91.0              NaN      Yes\n",
              "12   Aditya     Architecture    NaN             80.0       No\n",
              "13     Rani      Engineering    NaN             70.0      Yes\n",
              "14    Kumar       Integrated   78.0              NaN       No\n",
              "15     Riya      Mathematics    NaN             82.0      Yes\n",
              "16    Vijay         Medicine    NaN             90.0      Yes\n",
              "17    Nisha          Physics    NaN             85.0       No\n",
              "18    Rahul        Economics    NaN             80.0      Yes\n",
              "19     Isha       Psychology   79.0              NaN       No\n",
              "20     Neel             Arts    NaN             85.0      Yes\n",
              "21    Sonia  ComputerScience    NaN             90.0       No"
            ],
            "text/html": [
              "\n",
              "  <div id=\"df-e9904d8f-2d4f-4baa-8d5f-2dc4153cc75b\" class=\"colab-df-container\">\n",
              "    <div>\n",
              "<style scoped>\n",
              "    .dataframe tbody tr th:only-of-type {\n",
              "        vertical-align: middle;\n",
              "    }\n",
              "\n",
              "    .dataframe tbody tr th {\n",
              "        vertical-align: top;\n",
              "    }\n",
              "\n",
              "    .dataframe thead th {\n",
              "        text-align: right;\n",
              "    }\n",
              "</style>\n",
              "<table border=\"1\" class=\"dataframe\">\n",
              "  <thead>\n",
              "    <tr style=\"text-align: right;\">\n",
              "      <th></th>\n",
              "      <th>Name</th>\n",
              "      <th>Department</th>\n",
              "      <th>Grade</th>\n",
              "      <th>Attendance Rate</th>\n",
              "      <th>Hosteler</th>\n",
              "    </tr>\n",
              "  </thead>\n",
              "  <tbody>\n",
              "    <tr>\n",
              "      <th>0</th>\n",
              "      <td>Aarav</td>\n",
              "      <td>ComputerScience</td>\n",
              "      <td>85.0</td>\n",
              "      <td>90.0</td>\n",
              "      <td>Yes</td>\n",
              "    </tr>\n",
              "    <tr>\n",
              "      <th>1</th>\n",
              "      <td>Sita</td>\n",
              "      <td>Business</td>\n",
              "      <td>NaN</td>\n",
              "      <td>85.0</td>\n",
              "      <td>No</td>\n",
              "    </tr>\n",
              "    <tr>\n",
              "      <th>2</th>\n",
              "      <td>Raj</td>\n",
              "      <td>Law</td>\n",
              "      <td>92.0</td>\n",
              "      <td>95.0</td>\n",
              "      <td>Yes</td>\n",
              "    </tr>\n",
              "    <tr>\n",
              "      <th>3</th>\n",
              "      <td>Priya</td>\n",
              "      <td>Mathematics</td>\n",
              "      <td>88.0</td>\n",
              "      <td>80.0</td>\n",
              "      <td>No</td>\n",
              "    </tr>\n",
              "    <tr>\n",
              "      <th>4</th>\n",
              "      <td>Naveen</td>\n",
              "      <td>Integrated</td>\n",
              "      <td>74.0</td>\n",
              "      <td>NaN</td>\n",
              "      <td>Yes</td>\n",
              "    </tr>\n",
              "    <tr>\n",
              "      <th>5</th>\n",
              "      <td>Ananya</td>\n",
              "      <td>ComputerScience</td>\n",
              "      <td>NaN</td>\n",
              "      <td>85.0</td>\n",
              "      <td>No</td>\n",
              "    </tr>\n",
              "    <tr>\n",
              "      <th>6</th>\n",
              "      <td>Kiran</td>\n",
              "      <td>Medicine</td>\n",
              "      <td>90.0</td>\n",
              "      <td>92.0</td>\n",
              "      <td>Yes</td>\n",
              "    </tr>\n",
              "    <tr>\n",
              "      <th>7</th>\n",
              "      <td>Lakshmi</td>\n",
              "      <td>Psychology</td>\n",
              "      <td>81.0</td>\n",
              "      <td>NaN</td>\n",
              "      <td>No</td>\n",
              "    </tr>\n",
              "    <tr>\n",
              "      <th>8</th>\n",
              "      <td>Kabir</td>\n",
              "      <td>Economics</td>\n",
              "      <td>NaN</td>\n",
              "      <td>76.0</td>\n",
              "      <td>No</td>\n",
              "    </tr>\n",
              "    <tr>\n",
              "      <th>9</th>\n",
              "      <td>Saanvi</td>\n",
              "      <td>ComputerScience</td>\n",
              "      <td>89.0</td>\n",
              "      <td>NaN</td>\n",
              "      <td>Yes</td>\n",
              "    </tr>\n",
              "    <tr>\n",
              "      <th>10</th>\n",
              "      <td>Arjun</td>\n",
              "      <td>Engineering</td>\n",
              "      <td>82.0</td>\n",
              "      <td>NaN</td>\n",
              "      <td>No</td>\n",
              "    </tr>\n",
              "    <tr>\n",
              "      <th>11</th>\n",
              "      <td>Meera</td>\n",
              "      <td>Arts</td>\n",
              "      <td>91.0</td>\n",
              "      <td>NaN</td>\n",
              "      <td>Yes</td>\n",
              "    </tr>\n",
              "    <tr>\n",
              "      <th>12</th>\n",
              "      <td>Aditya</td>\n",
              "      <td>Architecture</td>\n",
              "      <td>NaN</td>\n",
              "      <td>80.0</td>\n",
              "      <td>No</td>\n",
              "    </tr>\n",
              "    <tr>\n",
              "      <th>13</th>\n",
              "      <td>Rani</td>\n",
              "      <td>Engineering</td>\n",
              "      <td>NaN</td>\n",
              "      <td>70.0</td>\n",
              "      <td>Yes</td>\n",
              "    </tr>\n",
              "    <tr>\n",
              "      <th>14</th>\n",
              "      <td>Kumar</td>\n",
              "      <td>Integrated</td>\n",
              "      <td>78.0</td>\n",
              "      <td>NaN</td>\n",
              "      <td>No</td>\n",
              "    </tr>\n",
              "    <tr>\n",
              "      <th>15</th>\n",
              "      <td>Riya</td>\n",
              "      <td>Mathematics</td>\n",
              "      <td>NaN</td>\n",
              "      <td>82.0</td>\n",
              "      <td>Yes</td>\n",
              "    </tr>\n",
              "    <tr>\n",
              "      <th>16</th>\n",
              "      <td>Vijay</td>\n",
              "      <td>Medicine</td>\n",
              "      <td>NaN</td>\n",
              "      <td>90.0</td>\n",
              "      <td>Yes</td>\n",
              "    </tr>\n",
              "    <tr>\n",
              "      <th>17</th>\n",
              "      <td>Nisha</td>\n",
              "      <td>Physics</td>\n",
              "      <td>NaN</td>\n",
              "      <td>85.0</td>\n",
              "      <td>No</td>\n",
              "    </tr>\n",
              "    <tr>\n",
              "      <th>18</th>\n",
              "      <td>Rahul</td>\n",
              "      <td>Economics</td>\n",
              "      <td>NaN</td>\n",
              "      <td>80.0</td>\n",
              "      <td>Yes</td>\n",
              "    </tr>\n",
              "    <tr>\n",
              "      <th>19</th>\n",
              "      <td>Isha</td>\n",
              "      <td>Psychology</td>\n",
              "      <td>79.0</td>\n",
              "      <td>NaN</td>\n",
              "      <td>No</td>\n",
              "    </tr>\n",
              "    <tr>\n",
              "      <th>20</th>\n",
              "      <td>Neel</td>\n",
              "      <td>Arts</td>\n",
              "      <td>NaN</td>\n",
              "      <td>85.0</td>\n",
              "      <td>Yes</td>\n",
              "    </tr>\n",
              "    <tr>\n",
              "      <th>21</th>\n",
              "      <td>Sonia</td>\n",
              "      <td>ComputerScience</td>\n",
              "      <td>NaN</td>\n",
              "      <td>90.0</td>\n",
              "      <td>No</td>\n",
              "    </tr>\n",
              "  </tbody>\n",
              "</table>\n",
              "</div>\n",
              "    <div class=\"colab-df-buttons\">\n",
              "\n",
              "  <div class=\"colab-df-container\">\n",
              "    <button class=\"colab-df-convert\" onclick=\"convertToInteractive('df-e9904d8f-2d4f-4baa-8d5f-2dc4153cc75b')\"\n",
              "            title=\"Convert this dataframe to an interactive table.\"\n",
              "            style=\"display:none;\">\n",
              "\n",
              "  <svg xmlns=\"http://www.w3.org/2000/svg\" height=\"24px\" viewBox=\"0 -960 960 960\">\n",
              "    <path d=\"M120-120v-720h720v720H120Zm60-500h600v-160H180v160Zm220 220h160v-160H400v160Zm0 220h160v-160H400v160ZM180-400h160v-160H180v160Zm440 0h160v-160H620v160ZM180-180h160v-160H180v160Zm440 0h160v-160H620v160Z\"/>\n",
              "  </svg>\n",
              "    </button>\n",
              "\n",
              "  <style>\n",
              "    .colab-df-container {\n",
              "      display:flex;\n",
              "      gap: 12px;\n",
              "    }\n",
              "\n",
              "    .colab-df-convert {\n",
              "      background-color: #E8F0FE;\n",
              "      border: none;\n",
              "      border-radius: 50%;\n",
              "      cursor: pointer;\n",
              "      display: none;\n",
              "      fill: #1967D2;\n",
              "      height: 32px;\n",
              "      padding: 0 0 0 0;\n",
              "      width: 32px;\n",
              "    }\n",
              "\n",
              "    .colab-df-convert:hover {\n",
              "      background-color: #E2EBFA;\n",
              "      box-shadow: 0px 1px 2px rgba(60, 64, 67, 0.3), 0px 1px 3px 1px rgba(60, 64, 67, 0.15);\n",
              "      fill: #174EA6;\n",
              "    }\n",
              "\n",
              "    .colab-df-buttons div {\n",
              "      margin-bottom: 4px;\n",
              "    }\n",
              "\n",
              "    [theme=dark] .colab-df-convert {\n",
              "      background-color: #3B4455;\n",
              "      fill: #D2E3FC;\n",
              "    }\n",
              "\n",
              "    [theme=dark] .colab-df-convert:hover {\n",
              "      background-color: #434B5C;\n",
              "      box-shadow: 0px 1px 3px 1px rgba(0, 0, 0, 0.15);\n",
              "      filter: drop-shadow(0px 1px 2px rgba(0, 0, 0, 0.3));\n",
              "      fill: #FFFFFF;\n",
              "    }\n",
              "  </style>\n",
              "\n",
              "    <script>\n",
              "      const buttonEl =\n",
              "        document.querySelector('#df-e9904d8f-2d4f-4baa-8d5f-2dc4153cc75b button.colab-df-convert');\n",
              "      buttonEl.style.display =\n",
              "        google.colab.kernel.accessAllowed ? 'block' : 'none';\n",
              "\n",
              "      async function convertToInteractive(key) {\n",
              "        const element = document.querySelector('#df-e9904d8f-2d4f-4baa-8d5f-2dc4153cc75b');\n",
              "        const dataTable =\n",
              "          await google.colab.kernel.invokeFunction('convertToInteractive',\n",
              "                                                    [key], {});\n",
              "        if (!dataTable) return;\n",
              "\n",
              "        const docLinkHtml = 'Like what you see? Visit the ' +\n",
              "          '<a target=\"_blank\" href=https://colab.research.google.com/notebooks/data_table.ipynb>data table notebook</a>'\n",
              "          + ' to learn more about interactive tables.';\n",
              "        element.innerHTML = '';\n",
              "        dataTable['output_type'] = 'display_data';\n",
              "        await google.colab.output.renderOutput(dataTable, element);\n",
              "        const docLink = document.createElement('div');\n",
              "        docLink.innerHTML = docLinkHtml;\n",
              "        element.appendChild(docLink);\n",
              "      }\n",
              "    </script>\n",
              "  </div>\n",
              "\n",
              "\n",
              "<div id=\"df-12c2bee5-2068-4d06-8167-c64dc1adb796\">\n",
              "  <button class=\"colab-df-quickchart\" onclick=\"quickchart('df-12c2bee5-2068-4d06-8167-c64dc1adb796')\"\n",
              "            title=\"Suggest charts\"\n",
              "            style=\"display:none;\">\n",
              "\n",
              "<svg xmlns=\"http://www.w3.org/2000/svg\" height=\"24px\"viewBox=\"0 0 24 24\"\n",
              "     width=\"24px\">\n",
              "    <g>\n",
              "        <path d=\"M19 3H5c-1.1 0-2 .9-2 2v14c0 1.1.9 2 2 2h14c1.1 0 2-.9 2-2V5c0-1.1-.9-2-2-2zM9 17H7v-7h2v7zm4 0h-2V7h2v10zm4 0h-2v-4h2v4z\"/>\n",
              "    </g>\n",
              "</svg>\n",
              "  </button>\n",
              "\n",
              "<style>\n",
              "  .colab-df-quickchart {\n",
              "      --bg-color: #E8F0FE;\n",
              "      --fill-color: #1967D2;\n",
              "      --hover-bg-color: #E2EBFA;\n",
              "      --hover-fill-color: #174EA6;\n",
              "      --disabled-fill-color: #AAA;\n",
              "      --disabled-bg-color: #DDD;\n",
              "  }\n",
              "\n",
              "  [theme=dark] .colab-df-quickchart {\n",
              "      --bg-color: #3B4455;\n",
              "      --fill-color: #D2E3FC;\n",
              "      --hover-bg-color: #434B5C;\n",
              "      --hover-fill-color: #FFFFFF;\n",
              "      --disabled-bg-color: #3B4455;\n",
              "      --disabled-fill-color: #666;\n",
              "  }\n",
              "\n",
              "  .colab-df-quickchart {\n",
              "    background-color: var(--bg-color);\n",
              "    border: none;\n",
              "    border-radius: 50%;\n",
              "    cursor: pointer;\n",
              "    display: none;\n",
              "    fill: var(--fill-color);\n",
              "    height: 32px;\n",
              "    padding: 0;\n",
              "    width: 32px;\n",
              "  }\n",
              "\n",
              "  .colab-df-quickchart:hover {\n",
              "    background-color: var(--hover-bg-color);\n",
              "    box-shadow: 0 1px 2px rgba(60, 64, 67, 0.3), 0 1px 3px 1px rgba(60, 64, 67, 0.15);\n",
              "    fill: var(--button-hover-fill-color);\n",
              "  }\n",
              "\n",
              "  .colab-df-quickchart-complete:disabled,\n",
              "  .colab-df-quickchart-complete:disabled:hover {\n",
              "    background-color: var(--disabled-bg-color);\n",
              "    fill: var(--disabled-fill-color);\n",
              "    box-shadow: none;\n",
              "  }\n",
              "\n",
              "  .colab-df-spinner {\n",
              "    border: 2px solid var(--fill-color);\n",
              "    border-color: transparent;\n",
              "    border-bottom-color: var(--fill-color);\n",
              "    animation:\n",
              "      spin 1s steps(1) infinite;\n",
              "  }\n",
              "\n",
              "  @keyframes spin {\n",
              "    0% {\n",
              "      border-color: transparent;\n",
              "      border-bottom-color: var(--fill-color);\n",
              "      border-left-color: var(--fill-color);\n",
              "    }\n",
              "    20% {\n",
              "      border-color: transparent;\n",
              "      border-left-color: var(--fill-color);\n",
              "      border-top-color: var(--fill-color);\n",
              "    }\n",
              "    30% {\n",
              "      border-color: transparent;\n",
              "      border-left-color: var(--fill-color);\n",
              "      border-top-color: var(--fill-color);\n",
              "      border-right-color: var(--fill-color);\n",
              "    }\n",
              "    40% {\n",
              "      border-color: transparent;\n",
              "      border-right-color: var(--fill-color);\n",
              "      border-top-color: var(--fill-color);\n",
              "    }\n",
              "    60% {\n",
              "      border-color: transparent;\n",
              "      border-right-color: var(--fill-color);\n",
              "    }\n",
              "    80% {\n",
              "      border-color: transparent;\n",
              "      border-right-color: var(--fill-color);\n",
              "      border-bottom-color: var(--fill-color);\n",
              "    }\n",
              "    90% {\n",
              "      border-color: transparent;\n",
              "      border-bottom-color: var(--fill-color);\n",
              "    }\n",
              "  }\n",
              "</style>\n",
              "\n",
              "  <script>\n",
              "    async function quickchart(key) {\n",
              "      const quickchartButtonEl =\n",
              "        document.querySelector('#' + key + ' button');\n",
              "      quickchartButtonEl.disabled = true;  // To prevent multiple clicks.\n",
              "      quickchartButtonEl.classList.add('colab-df-spinner');\n",
              "      try {\n",
              "        const charts = await google.colab.kernel.invokeFunction(\n",
              "            'suggestCharts', [key], {});\n",
              "      } catch (error) {\n",
              "        console.error('Error during call to suggestCharts:', error);\n",
              "      }\n",
              "      quickchartButtonEl.classList.remove('colab-df-spinner');\n",
              "      quickchartButtonEl.classList.add('colab-df-quickchart-complete');\n",
              "    }\n",
              "    (() => {\n",
              "      let quickchartButtonEl =\n",
              "        document.querySelector('#df-12c2bee5-2068-4d06-8167-c64dc1adb796 button');\n",
              "      quickchartButtonEl.style.display =\n",
              "        google.colab.kernel.accessAllowed ? 'block' : 'none';\n",
              "    })();\n",
              "  </script>\n",
              "</div>\n",
              "\n",
              "    </div>\n",
              "  </div>\n"
            ],
            "application/vnd.google.colaboratory.intrinsic+json": {
              "type": "dataframe",
              "variable_name": "dataset",
              "summary": "{\n  \"name\": \"dataset\",\n  \"rows\": 22,\n  \"fields\": [\n    {\n      \"column\": \"Name\",\n      \"properties\": {\n        \"dtype\": \"string\",\n        \"num_unique_values\": 22,\n        \"samples\": [\n          \"Aarav\",\n          \"Rani\",\n          \"Kabir\"\n        ],\n        \"semantic_type\": \"\",\n        \"description\": \"\"\n      }\n    },\n    {\n      \"column\": \"Department\",\n      \"properties\": {\n        \"dtype\": \"string\",\n        \"num_unique_values\": 12,\n        \"samples\": [\n          \"Architecture\",\n          \"Arts\",\n          \"ComputerScience\"\n        ],\n        \"semantic_type\": \"\",\n        \"description\": \"\"\n      }\n    },\n    {\n      \"column\": \"Grade\",\n      \"properties\": {\n        \"dtype\": \"number\",\n        \"std\": 6.0226843909279575,\n        \"min\": 74.0,\n        \"max\": 92.0,\n        \"num_unique_values\": 11,\n        \"samples\": [\n          81.0,\n          85.0,\n          78.0\n        ],\n        \"semantic_type\": \"\",\n        \"description\": \"\"\n      }\n    },\n    {\n      \"column\": \"Attendance Rate\",\n      \"properties\": {\n        \"dtype\": \"number\",\n        \"std\": 6.586421819239366,\n        \"min\": 70.0,\n        \"max\": 95.0,\n        \"num_unique_values\": 8,\n        \"samples\": [\n          85.0,\n          76.0,\n          90.0\n        ],\n        \"semantic_type\": \"\",\n        \"description\": \"\"\n      }\n    },\n    {\n      \"column\": \"Hosteler\",\n      \"properties\": {\n        \"dtype\": \"category\",\n        \"num_unique_values\": 2,\n        \"samples\": [\n          \"No\",\n          \"Yes\"\n        ],\n        \"semantic_type\": \"\",\n        \"description\": \"\"\n      }\n    }\n  ]\n}"
            }
          },
          "metadata": {},
          "execution_count": 160
        }
      ]
    },
    {
      "cell_type": "markdown",
      "source": [
        "Encoding Independent Variables\n",
        "\n",
        "Let us get back to our original dataset and have a look at our Independent variable x."
      ],
      "metadata": {
        "id": "4gWiEAmbjeFz"
      }
    },
    {
      "cell_type": "code",
      "source": [
        "x= dataset.iloc[:,1:-1].values\n",
        "y= dataset.iloc[:,-1].values\n",
        "print (x)"
      ],
      "metadata": {
        "colab": {
          "base_uri": "https://localhost:8080/"
        },
        "id": "iTounIKfjcxS",
        "outputId": "f083836d-251b-45eb-d8f5-c4cb14dd1196"
      },
      "execution_count": 169,
      "outputs": [
        {
          "output_type": "stream",
          "name": "stdout",
          "text": [
            "[[2.0 'ComputerScience' 85.0 90.0]\n",
            " [3.0 'Business' nan 85.0]\n",
            " [1.0 'Law' 92.0 95.0]\n",
            " [4.0 'Mathematics' 88.0 80.0]\n",
            " [nan 'Integrated' 74.0 nan]\n",
            " [3.0 'ComputerScience' nan 85.0]\n",
            " [1.0 'Medicine' 90.0 92.0]\n",
            " [nan 'Psychology' 81.0 nan]\n",
            " [4.0 'Economics' nan 76.0]\n",
            " [3.0 'ComputerScience' 89.0 nan]\n",
            " [nan 'Engineering' 82.0 nan]\n",
            " [3.0 'Arts' 91.0 nan]\n",
            " [1.0 'Architecture' nan 80.0]\n",
            " [4.0 'Engineering' nan 70.0]\n",
            " [2.0 'Integrated' 78.0 nan]\n",
            " [3.0 'Mathematics' nan 82.0]\n",
            " [1.0 'Medicine' nan 90.0]\n",
            " [4.0 'Physics' nan 85.0]\n",
            " [nan 'Economics' nan 80.0]\n",
            " [3.0 'Psychology' 79.0 nan]\n",
            " [1.0 'Arts' nan 85.0]\n",
            " [4.0 'ComputerScience' nan 90.0]]\n"
          ]
        }
      ]
    },
    {
      "cell_type": "code",
      "source": [],
      "metadata": {
        "id": "d0OpCyw9k3Br"
      },
      "execution_count": 169,
      "outputs": []
    },
    {
      "cell_type": "markdown",
      "source": [
        "Let us first understand why this is needed.\n",
        "\n",
        "Our dataset contains fields like Department which have different names. The Hostler column contains Yes or No. We cannot work with these Categorical variables as they are literals. All these non-numeric values must be encoded into a convenient numeric value that can be used to train our model. This is why we need Encoding of Categorical variables.\n",
        "\n",
        "\n",
        "\n",
        "Our independent variable x contains a categorical variable Department. This field has different values\n",
        "\n",
        "So should we encode as 0, 1, 2...?\n",
        "\n",
        "But Directly\n",
        "\n",
        "\n",
        "NOOOOOOOO!!!!!!!!\n",
        "\n",
        "The correct answer is NO. We cannot directly encode the 3 countries as 0,1 and 2. This is because, if we encode the countries in this manner then the machine learning model will wrongly assume that there is some sort of sequential relationship between the countries. This will make the model believe that those are the numbers 0, 1, and 2. This is not true. Hence, we must not feed in the model with such incorrect information.\n",
        "\n",
        "\n",
        "\n",
        "\n",
        "So what is the solution?\n",
        "\n",
        "The solution is to create separate columns for each category of the Categorical variable. Then we assign 1 to the column which is true and 0 to the others. The entire set of columns that represent the Categorical variable shall give us the result without creating any ordinal relationship\n",
        "\n",
        "\n",
        "\n",
        "\n",
        "----This can be done with the help of One Hot Encoding.\n",
        "\n",
        "The separate columns which are created to represent the categorical variables are known as the Dummy Variables. The fit_transform() method is called from the OneHotEncoder class which creates the dummy variables and assigns them with binary values. Let us have a look at the code."
      ],
      "metadata": {
        "id": "T5krkWfZj_ZA"
      }
    },
    {
      "cell_type": "code",
      "source": [
        "print(x)\n"
      ],
      "metadata": {
        "colab": {
          "base_uri": "https://localhost:8080/"
        },
        "id": "UhIk4Y8VnA6T",
        "outputId": "5f72fa8c-22f5-41bc-c6fe-d8f437e50cf2"
      },
      "execution_count": 170,
      "outputs": [
        {
          "output_type": "stream",
          "name": "stdout",
          "text": [
            "[[2.0 'ComputerScience' 85.0 90.0]\n",
            " [3.0 'Business' nan 85.0]\n",
            " [1.0 'Law' 92.0 95.0]\n",
            " [4.0 'Mathematics' 88.0 80.0]\n",
            " [nan 'Integrated' 74.0 nan]\n",
            " [3.0 'ComputerScience' nan 85.0]\n",
            " [1.0 'Medicine' 90.0 92.0]\n",
            " [nan 'Psychology' 81.0 nan]\n",
            " [4.0 'Economics' nan 76.0]\n",
            " [3.0 'ComputerScience' 89.0 nan]\n",
            " [nan 'Engineering' 82.0 nan]\n",
            " [3.0 'Arts' 91.0 nan]\n",
            " [1.0 'Architecture' nan 80.0]\n",
            " [4.0 'Engineering' nan 70.0]\n",
            " [2.0 'Integrated' 78.0 nan]\n",
            " [3.0 'Mathematics' nan 82.0]\n",
            " [1.0 'Medicine' nan 90.0]\n",
            " [4.0 'Physics' nan 85.0]\n",
            " [nan 'Economics' nan 80.0]\n",
            " [3.0 'Psychology' 79.0 nan]\n",
            " [1.0 'Arts' nan 85.0]\n",
            " [4.0 'ComputerScience' nan 90.0]]\n"
          ]
        }
      ]
    },
    {
      "cell_type": "code",
      "source": [
        "from sklearn.compose import ColumnTransformer\n",
        "from sklearn.preprocessing import OneHotEncoder\n",
        "ct = ColumnTransformer(transformers=[('encoder', OneHotEncoder(), [0])], remainder='passthrough')\n",
        "X = np.array(ct.fit_transform(x))\n",
        "print(X)"
      ],
      "metadata": {
        "colab": {
          "base_uri": "https://localhost:8080/"
        },
        "id": "8l3dahHSn127",
        "outputId": "3802316d-67df-45d5-8c37-220e06f7765e"
      },
      "execution_count": 171,
      "outputs": [
        {
          "output_type": "stream",
          "name": "stdout",
          "text": [
            "[[0.0 1.0 0.0 0.0 0.0 'ComputerScience' 85.0 90.0]\n",
            " [0.0 0.0 1.0 0.0 0.0 'Business' nan 85.0]\n",
            " [1.0 0.0 0.0 0.0 0.0 'Law' 92.0 95.0]\n",
            " [0.0 0.0 0.0 1.0 0.0 'Mathematics' 88.0 80.0]\n",
            " [0.0 0.0 0.0 0.0 1.0 'Integrated' 74.0 nan]\n",
            " [0.0 0.0 1.0 0.0 0.0 'ComputerScience' nan 85.0]\n",
            " [1.0 0.0 0.0 0.0 0.0 'Medicine' 90.0 92.0]\n",
            " [0.0 0.0 0.0 0.0 1.0 'Psychology' 81.0 nan]\n",
            " [0.0 0.0 0.0 1.0 0.0 'Economics' nan 76.0]\n",
            " [0.0 0.0 1.0 0.0 0.0 'ComputerScience' 89.0 nan]\n",
            " [0.0 0.0 0.0 0.0 1.0 'Engineering' 82.0 nan]\n",
            " [0.0 0.0 1.0 0.0 0.0 'Arts' 91.0 nan]\n",
            " [1.0 0.0 0.0 0.0 0.0 'Architecture' nan 80.0]\n",
            " [0.0 0.0 0.0 1.0 0.0 'Engineering' nan 70.0]\n",
            " [0.0 1.0 0.0 0.0 0.0 'Integrated' 78.0 nan]\n",
            " [0.0 0.0 1.0 0.0 0.0 'Mathematics' nan 82.0]\n",
            " [1.0 0.0 0.0 0.0 0.0 'Medicine' nan 90.0]\n",
            " [0.0 0.0 0.0 1.0 0.0 'Physics' nan 85.0]\n",
            " [0.0 0.0 0.0 0.0 1.0 'Economics' nan 80.0]\n",
            " [0.0 0.0 1.0 0.0 0.0 'Psychology' 79.0 nan]\n",
            " [1.0 0.0 0.0 0.0 0.0 'Arts' nan 85.0]\n",
            " [0.0 0.0 0.0 1.0 0.0 'ComputerScience' nan 90.0]]\n"
          ]
        }
      ]
    },
    {
      "cell_type": "markdown",
      "source": [
        "Encoding Dependent Variables\n",
        "\n",
        "Let us now have a look at our dependent variable y."
      ],
      "metadata": {
        "id": "nJGzjzICp6B-"
      }
    },
    {
      "cell_type": "code",
      "source": [
        "print(y)"
      ],
      "metadata": {
        "colab": {
          "base_uri": "https://localhost:8080/"
        },
        "id": "lMDpQEGnp5ua",
        "outputId": "90af3db1-924c-4bae-caf9-ba353094c252"
      },
      "execution_count": 172,
      "outputs": [
        {
          "output_type": "stream",
          "name": "stdout",
          "text": [
            "['Yes' 'No' 'Yes' 'No' 'Yes' 'No' 'Yes' 'No' 'No' 'Yes' 'No' 'Yes' 'No'\n",
            " 'Yes' 'No' 'Yes' 'Yes' 'No' 'Yes' 'No' 'Yes' 'No']\n"
          ]
        }
      ]
    },
    {
      "cell_type": "markdown",
      "source": [
        "Our dependent variable y is also a categorical variable. However in this case we can simply assign 0 and 1 to the two categories ‘No’ and ‘Yes’. In this case, we do not require dummy variables to encode the ‘Predicted’ variable as it is a dependent variable that will not be used to train the model."
      ],
      "metadata": {
        "id": "WzJ7vXd5p-8x"
      }
    },
    {
      "cell_type": "code",
      "source": [
        "## To code this, we are going to need the LabelEncoder class.\n",
        "\n",
        "from sklearn.preprocessing import LabelEncoder\n",
        "le = LabelEncoder()\n",
        "y = le.fit_transform(y)\n",
        "print(y)"
      ],
      "metadata": {
        "colab": {
          "base_uri": "https://localhost:8080/"
        },
        "id": "QELWDtKjqCpR",
        "outputId": "8eeaa681-29a9-4576-98de-7c04b7636d45"
      },
      "execution_count": 173,
      "outputs": [
        {
          "output_type": "stream",
          "name": "stdout",
          "text": [
            "[1 0 1 0 1 0 1 0 0 1 0 1 0 1 0 1 1 0 1 0 1 0]\n"
          ]
        }
      ]
    },
    {
      "cell_type": "code",
      "source": [],
      "metadata": {
        "id": "Q1rfkNTzqHMj"
      },
      "execution_count": null,
      "outputs": []
    },
    {
      "cell_type": "markdown",
      "source": [
        "Feature Scaling – The last step of Feature Engineering\n",
        "\n",
        "Feature Scaling is the process of scaling or converting all the values in our dataset to a given scale. Some machine learning algorithms like linear regression, logistic regression, etc use gradient descent optimization. Such algorithms require the data to be scaled in order to perform optimally. K Nearest Neighbours, Support Vector Machine, and K-Means clustering also show a drastic rise in performance on scaling the data.\n",
        "\n",
        "There are two main techniques of feature scaling:\n",
        "\n",
        "Standardization Normalization"
      ],
      "metadata": {
        "id": "3OD2R02hqJxW"
      }
    },
    {
      "cell_type": "code",
      "source": [],
      "metadata": {
        "id": "jr3Wui5cqJfM"
      },
      "execution_count": null,
      "outputs": []
    },
    {
      "cell_type": "markdown",
      "source": [
        "Normalization is the process of scaling the data values in such a way that that the value of all the features lies between 0 and 1.\n",
        "\n",
        "\n",
        "\n",
        "This method works well when the data is normally distributed.\n",
        "\n",
        "Standardization is the process of scaling the data values in such a way that that they gain the properties of standard normal distribution. This means that the data is rescaled in such a way that the mean becomes zero and the data has unit standard deviation.\n",
        "\n",
        "\n",
        "Standardized values do not have a fixed bounded range like Normalised values.\n",
        "\n",
        "\n",
        "Let us have a look at the code. If you do not have separate training and test sets then you can split your dataset into two parts – one for training and the other for testing."
      ],
      "metadata": {
        "id": "zTfJkNiWqOEf"
      }
    },
    {
      "cell_type": "code",
      "source": [
        "from sklearn.model_selection import train_test_split\n",
        "X_train, X_test, y_train, y_test = train_test_split(X, y, test_size = 0.2, random_state = 1)\n",
        "print(X_train)"
      ],
      "metadata": {
        "colab": {
          "base_uri": "https://localhost:8080/"
        },
        "id": "yIq3HJemqeLQ",
        "outputId": "d16ea8db-5c2e-47a3-e0be-803cdf818aef"
      },
      "execution_count": 174,
      "outputs": [
        {
          "output_type": "stream",
          "name": "stdout",
          "text": [
            "[[0.0 0.0 1.0 0.0 0.0 'Mathematics' nan 82.0]\n",
            " [0.0 0.0 0.0 0.0 1.0 'Engineering' 82.0 nan]\n",
            " [0.0 0.0 0.0 0.0 1.0 'Integrated' 74.0 nan]\n",
            " [1.0 0.0 0.0 0.0 0.0 'Law' 92.0 95.0]\n",
            " [0.0 0.0 0.0 1.0 0.0 'Physics' nan 85.0]\n",
            " [1.0 0.0 0.0 0.0 0.0 'Medicine' 90.0 92.0]\n",
            " [0.0 0.0 0.0 0.0 1.0 'Psychology' 81.0 nan]\n",
            " [0.0 0.0 1.0 0.0 0.0 'Business' nan 85.0]\n",
            " [0.0 1.0 0.0 0.0 0.0 'Integrated' 78.0 nan]\n",
            " [0.0 1.0 0.0 0.0 0.0 'ComputerScience' 85.0 90.0]\n",
            " [0.0 0.0 0.0 1.0 0.0 'ComputerScience' nan 90.0]\n",
            " [1.0 0.0 0.0 0.0 0.0 'Arts' nan 85.0]\n",
            " [0.0 0.0 1.0 0.0 0.0 'ComputerScience' 89.0 nan]\n",
            " [0.0 0.0 0.0 1.0 0.0 'Economics' nan 76.0]\n",
            " [1.0 0.0 0.0 0.0 0.0 'Architecture' nan 80.0]\n",
            " [0.0 0.0 1.0 0.0 0.0 'Arts' 91.0 nan]\n",
            " [0.0 0.0 1.0 0.0 0.0 'ComputerScience' nan 85.0]]\n"
          ]
        }
      ]
    },
    {
      "cell_type": "markdown",
      "source": [
        "Now we shall import the StandardScaler class to scale all the variables."
      ],
      "metadata": {
        "id": "0dQEkEXGqrcq"
      }
    }
  ]
}